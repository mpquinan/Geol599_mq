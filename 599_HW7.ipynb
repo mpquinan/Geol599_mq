{
 "cells": [
  {
   "cell_type": "code",
   "execution_count": 1,
   "id": "8729aa12",
   "metadata": {},
   "outputs": [],
   "source": [
    "import pandas as pd\n",
    "import numpy as np\n",
    "from matplotlib import pyplot as plt\n",
    "import seaborn as sns\n",
    "from sklearn import linear_model\n",
    "from sklearn.linear_model import RidgeClassifier"
   ]
  },
  {
   "cell_type": "code",
   "execution_count": 2,
   "id": "b363d38e",
   "metadata": {},
   "outputs": [],
   "source": [
    "AQS = \"/Users/matthewq/Geol_599/week7/LA_AQS_2023.csv\" \n",
    "df = pd.read_csv(AQS) "
   ]
  },
  {
   "cell_type": "code",
   "execution_count": 3,
   "id": "99d96fd6",
   "metadata": {},
   "outputs": [
    {
     "data": {
      "text/html": [
       "<div>\n",
       "<style scoped>\n",
       "    .dataframe tbody tr th:only-of-type {\n",
       "        vertical-align: middle;\n",
       "    }\n",
       "\n",
       "    .dataframe tbody tr th {\n",
       "        vertical-align: top;\n",
       "    }\n",
       "\n",
       "    .dataframe thead th {\n",
       "        text-align: right;\n",
       "    }\n",
       "</style>\n",
       "<table border=\"1\" class=\"dataframe\">\n",
       "  <thead>\n",
       "    <tr style=\"text-align: right;\">\n",
       "      <th></th>\n",
       "      <th>O3</th>\n",
       "    </tr>\n",
       "  </thead>\n",
       "  <tbody>\n",
       "    <tr>\n",
       "      <th>count</th>\n",
       "      <td>273.000000</td>\n",
       "    </tr>\n",
       "    <tr>\n",
       "      <th>mean</th>\n",
       "      <td>0.027899</td>\n",
       "    </tr>\n",
       "    <tr>\n",
       "      <th>std</th>\n",
       "      <td>0.007559</td>\n",
       "    </tr>\n",
       "    <tr>\n",
       "      <th>min</th>\n",
       "      <td>0.008333</td>\n",
       "    </tr>\n",
       "    <tr>\n",
       "      <th>25%</th>\n",
       "      <td>0.023958</td>\n",
       "    </tr>\n",
       "    <tr>\n",
       "      <th>50%</th>\n",
       "      <td>0.028458</td>\n",
       "    </tr>\n",
       "    <tr>\n",
       "      <th>75%</th>\n",
       "      <td>0.032958</td>\n",
       "    </tr>\n",
       "    <tr>\n",
       "      <th>max</th>\n",
       "      <td>0.045750</td>\n",
       "    </tr>\n",
       "  </tbody>\n",
       "</table>\n",
       "</div>"
      ],
      "text/plain": [
       "               O3\n",
       "count  273.000000\n",
       "mean     0.027899\n",
       "std      0.007559\n",
       "min      0.008333\n",
       "25%      0.023958\n",
       "50%      0.028458\n",
       "75%      0.032958\n",
       "max      0.045750"
      ]
     },
     "execution_count": 3,
     "metadata": {},
     "output_type": "execute_result"
    }
   ],
   "source": [
    "# Create an \"ozone only\" data frame\n",
    "df_O3 = df[(df['Parameter Name']=='Ozone') & (df['Duration Description']=='1 HOUR')]\n",
    "df_O3.head()\n",
    "o3V = df_O3[\"Arithmetic Mean\"]\n",
    "df_O3 = pd.DataFrame(data = {\"O3\" : o3V, 'date' : df_O3[\"Date (Local)\"]})\n",
    "df_O3.describe()"
   ]
  },
  {
   "cell_type": "code",
   "execution_count": 4,
   "id": "ff04b77f",
   "metadata": {},
   "outputs": [
    {
     "data": {
      "text/html": [
       "<div>\n",
       "<style scoped>\n",
       "    .dataframe tbody tr th:only-of-type {\n",
       "        vertical-align: middle;\n",
       "    }\n",
       "\n",
       "    .dataframe tbody tr th {\n",
       "        vertical-align: top;\n",
       "    }\n",
       "\n",
       "    .dataframe thead th {\n",
       "        text-align: right;\n",
       "    }\n",
       "</style>\n",
       "<table border=\"1\" class=\"dataframe\">\n",
       "  <thead>\n",
       "    <tr style=\"text-align: right;\">\n",
       "      <th></th>\n",
       "      <th>NO2</th>\n",
       "    </tr>\n",
       "  </thead>\n",
       "  <tbody>\n",
       "    <tr>\n",
       "      <th>count</th>\n",
       "      <td>1092.000000</td>\n",
       "    </tr>\n",
       "    <tr>\n",
       "      <th>mean</th>\n",
       "      <td>13.350240</td>\n",
       "    </tr>\n",
       "    <tr>\n",
       "      <th>std</th>\n",
       "      <td>6.208615</td>\n",
       "    </tr>\n",
       "    <tr>\n",
       "      <th>min</th>\n",
       "      <td>3.458333</td>\n",
       "    </tr>\n",
       "    <tr>\n",
       "      <th>25%</th>\n",
       "      <td>8.804167</td>\n",
       "    </tr>\n",
       "    <tr>\n",
       "      <th>50%</th>\n",
       "      <td>11.672917</td>\n",
       "    </tr>\n",
       "    <tr>\n",
       "      <th>75%</th>\n",
       "      <td>16.725000</td>\n",
       "    </tr>\n",
       "    <tr>\n",
       "      <th>max</th>\n",
       "      <td>33.466667</td>\n",
       "    </tr>\n",
       "  </tbody>\n",
       "</table>\n",
       "</div>"
      ],
      "text/plain": [
       "               NO2\n",
       "count  1092.000000\n",
       "mean     13.350240\n",
       "std       6.208615\n",
       "min       3.458333\n",
       "25%       8.804167\n",
       "50%      11.672917\n",
       "75%      16.725000\n",
       "max      33.466667"
      ]
     },
     "execution_count": 4,
     "metadata": {},
     "output_type": "execute_result"
    }
   ],
   "source": [
    "#create no2 only data set\n",
    "df_NO2 = df[(df['Parameter Name']=='Nitrogen dioxide (NO2)') & (df['Duration Description']=='1 HOUR')]\n",
    "df_NO2.head()\n",
    "no2V = df_NO2[\"Arithmetic Mean\"]\n",
    "df_NO2 = pd.DataFrame(data = {\"NO2\" : no2V, 'date' : df_NO2[\"Date (Local)\"]})\n",
    "df_NO2.describe()"
   ]
  },
  {
   "cell_type": "code",
   "execution_count": 5,
   "id": "23741b89",
   "metadata": {},
   "outputs": [
    {
     "data": {
      "text/html": [
       "<div>\n",
       "<style scoped>\n",
       "    .dataframe tbody tr th:only-of-type {\n",
       "        vertical-align: middle;\n",
       "    }\n",
       "\n",
       "    .dataframe tbody tr th {\n",
       "        vertical-align: top;\n",
       "    }\n",
       "\n",
       "    .dataframe thead th {\n",
       "        text-align: right;\n",
       "    }\n",
       "</style>\n",
       "<table border=\"1\" class=\"dataframe\">\n",
       "  <thead>\n",
       "    <tr style=\"text-align: right;\">\n",
       "      <th></th>\n",
       "      <th>PM</th>\n",
       "    </tr>\n",
       "  </thead>\n",
       "  <tbody>\n",
       "    <tr>\n",
       "      <th>count</th>\n",
       "      <td>271.000000</td>\n",
       "    </tr>\n",
       "    <tr>\n",
       "      <th>mean</th>\n",
       "      <td>11.936013</td>\n",
       "    </tr>\n",
       "    <tr>\n",
       "      <th>std</th>\n",
       "      <td>5.106624</td>\n",
       "    </tr>\n",
       "    <tr>\n",
       "      <th>min</th>\n",
       "      <td>3.250000</td>\n",
       "    </tr>\n",
       "    <tr>\n",
       "      <th>25%</th>\n",
       "      <td>8.158333</td>\n",
       "    </tr>\n",
       "    <tr>\n",
       "      <th>50%</th>\n",
       "      <td>10.912500</td>\n",
       "    </tr>\n",
       "    <tr>\n",
       "      <th>75%</th>\n",
       "      <td>15.145833</td>\n",
       "    </tr>\n",
       "    <tr>\n",
       "      <th>max</th>\n",
       "      <td>31.979167</td>\n",
       "    </tr>\n",
       "  </tbody>\n",
       "</table>\n",
       "</div>"
      ],
      "text/plain": [
       "               PM\n",
       "count  271.000000\n",
       "mean    11.936013\n",
       "std      5.106624\n",
       "min      3.250000\n",
       "25%      8.158333\n",
       "50%     10.912500\n",
       "75%     15.145833\n",
       "max     31.979167"
      ]
     },
     "execution_count": 5,
     "metadata": {},
     "output_type": "execute_result"
    }
   ],
   "source": [
    "#create pm2.5 only data set\n",
    "df_PM25 = df[(df['Parameter Name']=='PM2.5 - Local Conditions') & (df['Duration Description']=='1 HOUR')]\n",
    "df_PM25.head()\n",
    "pm25V = df_PM25[\"Arithmetic Mean\"]\n",
    "df_PM25 = pd.DataFrame(data = {\"PM\" : pm25V, 'date' : df_PM25[\"Date (Local)\"]})\n",
    "df_PM25.describe()"
   ]
  },
  {
   "cell_type": "code",
   "execution_count": 6,
   "id": "1f9bfd2a",
   "metadata": {},
   "outputs": [],
   "source": [
    "oz_n = df_NO2.merge(df_O3, on=['date'])"
   ]
  },
  {
   "cell_type": "code",
   "execution_count": 7,
   "id": "de7ba985",
   "metadata": {},
   "outputs": [],
   "source": [
    "oz_n_pm = df_PM25.merge(oz_n, on=['date'])"
   ]
  },
  {
   "cell_type": "code",
   "execution_count": 8,
   "id": "b67578cd",
   "metadata": {},
   "outputs": [
    {
     "data": {
      "text/html": [
       "<div>\n",
       "<style scoped>\n",
       "    .dataframe tbody tr th:only-of-type {\n",
       "        vertical-align: middle;\n",
       "    }\n",
       "\n",
       "    .dataframe tbody tr th {\n",
       "        vertical-align: top;\n",
       "    }\n",
       "\n",
       "    .dataframe thead th {\n",
       "        text-align: right;\n",
       "    }\n",
       "</style>\n",
       "<table border=\"1\" class=\"dataframe\">\n",
       "  <thead>\n",
       "    <tr style=\"text-align: right;\">\n",
       "      <th></th>\n",
       "      <th>PM</th>\n",
       "      <th>date</th>\n",
       "      <th>NO2</th>\n",
       "      <th>O3</th>\n",
       "    </tr>\n",
       "  </thead>\n",
       "  <tbody>\n",
       "    <tr>\n",
       "      <th>0</th>\n",
       "      <td>5.087500</td>\n",
       "      <td>2023-01-01</td>\n",
       "      <td>4.816667</td>\n",
       "      <td>0.031708</td>\n",
       "    </tr>\n",
       "    <tr>\n",
       "      <th>1</th>\n",
       "      <td>5.087500</td>\n",
       "      <td>2023-01-01</td>\n",
       "      <td>4.550000</td>\n",
       "      <td>0.031708</td>\n",
       "    </tr>\n",
       "    <tr>\n",
       "      <th>2</th>\n",
       "      <td>5.087500</td>\n",
       "      <td>2023-01-01</td>\n",
       "      <td>4.550000</td>\n",
       "      <td>0.031708</td>\n",
       "    </tr>\n",
       "    <tr>\n",
       "      <th>3</th>\n",
       "      <td>5.087500</td>\n",
       "      <td>2023-01-01</td>\n",
       "      <td>4.816667</td>\n",
       "      <td>0.031708</td>\n",
       "    </tr>\n",
       "    <tr>\n",
       "      <th>4</th>\n",
       "      <td>9.187500</td>\n",
       "      <td>2023-01-02</td>\n",
       "      <td>14.720833</td>\n",
       "      <td>0.015792</td>\n",
       "    </tr>\n",
       "    <tr>\n",
       "      <th>...</th>\n",
       "      <td>...</td>\n",
       "      <td>...</td>\n",
       "      <td>...</td>\n",
       "      <td>...</td>\n",
       "    </tr>\n",
       "    <tr>\n",
       "      <th>1079</th>\n",
       "      <td>10.875000</td>\n",
       "      <td>2023-09-29</td>\n",
       "      <td>8.614286</td>\n",
       "      <td>0.039048</td>\n",
       "    </tr>\n",
       "    <tr>\n",
       "      <th>1080</th>\n",
       "      <td>6.416667</td>\n",
       "      <td>2023-09-30</td>\n",
       "      <td>6.370833</td>\n",
       "      <td>0.030042</td>\n",
       "    </tr>\n",
       "    <tr>\n",
       "      <th>1081</th>\n",
       "      <td>6.416667</td>\n",
       "      <td>2023-09-30</td>\n",
       "      <td>6.370833</td>\n",
       "      <td>0.030042</td>\n",
       "    </tr>\n",
       "    <tr>\n",
       "      <th>1082</th>\n",
       "      <td>6.416667</td>\n",
       "      <td>2023-09-30</td>\n",
       "      <td>7.362500</td>\n",
       "      <td>0.030042</td>\n",
       "    </tr>\n",
       "    <tr>\n",
       "      <th>1083</th>\n",
       "      <td>6.416667</td>\n",
       "      <td>2023-09-30</td>\n",
       "      <td>7.362500</td>\n",
       "      <td>0.030042</td>\n",
       "    </tr>\n",
       "  </tbody>\n",
       "</table>\n",
       "<p>1084 rows × 4 columns</p>\n",
       "</div>"
      ],
      "text/plain": [
       "             PM        date        NO2        O3\n",
       "0      5.087500  2023-01-01   4.816667  0.031708\n",
       "1      5.087500  2023-01-01   4.550000  0.031708\n",
       "2      5.087500  2023-01-01   4.550000  0.031708\n",
       "3      5.087500  2023-01-01   4.816667  0.031708\n",
       "4      9.187500  2023-01-02  14.720833  0.015792\n",
       "...         ...         ...        ...       ...\n",
       "1079  10.875000  2023-09-29   8.614286  0.039048\n",
       "1080   6.416667  2023-09-30   6.370833  0.030042\n",
       "1081   6.416667  2023-09-30   6.370833  0.030042\n",
       "1082   6.416667  2023-09-30   7.362500  0.030042\n",
       "1083   6.416667  2023-09-30   7.362500  0.030042\n",
       "\n",
       "[1084 rows x 4 columns]"
      ]
     },
     "execution_count": 8,
     "metadata": {},
     "output_type": "execute_result"
    }
   ],
   "source": [
    "oz_n_pm"
   ]
  },
  {
   "cell_type": "code",
   "execution_count": 9,
   "id": "fbbba6fa",
   "metadata": {},
   "outputs": [
    {
     "data": {
      "text/plain": [
       "[Text(0.5, 0, 'Nitrogen Dioxide (ppb)'), Text(0, 0.5, 'Ozone (ppm)')]"
      ]
     },
     "execution_count": 9,
     "metadata": {},
     "output_type": "execute_result"
    },
    {
     "data": {
      "image/png": "[encoded data removed]",
      "text/plain": [
       "<Figure size 640x480 with 1 Axes>"
      ]
     },
     "metadata": {},
     "output_type": "display_data"
    }
   ],
   "source": [
    "#scatterplot of O3 vs NO2\n",
    "on_s = sns.scatterplot(data=oz_n_pm, x=\"NO2\", y=\"O3\", color='black')\n",
    "on_s.set(xlabel='Nitrogen Dioxide (ppb)', ylabel='Ozone (ppm)')"
   ]
  },
  {
   "cell_type": "code",
   "execution_count": 10,
   "id": "836e84cd",
   "metadata": {},
   "outputs": [
    {
     "data": {
      "text/plain": [
       "[Text(0.5, 0, 'PM2.5 (µg $m^{-3}$)'), Text(0, 0.5, 'Ozone (ppm)')]"
      ]
     },
     "execution_count": 10,
     "metadata": {},
     "output_type": "execute_result"
    },
    {
     "data": {
      "image/png": "[encoded data removed]",
      "text/plain": [
       "<Figure size 640x480 with 1 Axes>"
      ]
     },
     "metadata": {},
     "output_type": "display_data"
    }
   ],
   "source": [
    "#scatterplot of O3 vs PM2.5\n",
    "on_s = sns.scatterplot(data=oz_n_pm, x=\"PM\", y=\"O3\", color='black')\n",
    "on_s.set(xlabel='PM2.5 (µg $m^{-3}$)', ylabel='Ozone (ppm)')"
   ]
  },
  {
   "cell_type": "code",
   "execution_count": 11,
   "id": "9397b56e",
   "metadata": {},
   "outputs": [
    {
     "data": {
      "text/plain": [
       "array([1, 1, 1, ..., 9, 9, 9], dtype=int32)"
      ]
     },
     "execution_count": 11,
     "metadata": {},
     "output_type": "execute_result"
    }
   ],
   "source": [
    "#1- determining summer months\n",
    "#use .values to get array of 1 through 9 for each month\n",
    "Months = pd.DatetimeIndex(oz_n_pm['date']).month.values\n",
    "Months"
   ]
  },
  {
   "cell_type": "code",
   "execution_count": 12,
   "id": "687718dc",
   "metadata": {},
   "outputs": [],
   "source": [
    "#encoding summer as 1, winter as 0, neither as -1\n",
    "#creates empty array \n",
    "sIdx = Months - Months #Set values (including winter) to zero\n",
    "sIdx[Months == 12] = 0 #Set winter to 0\n",
    "sIdx[Months == 1] = 0\n",
    "sIdx[Months == 2] = 0\n",
    "\n",
    "sIdx[Months == 6] = 1 #Set summer to 1\n",
    "sIdx[Months == 7] = 1\n",
    "sIdx[Months == 8] = 1\n",
    "\n",
    "sIdx[Months == 3] = -1 #Set spring to -1\n",
    "sIdx[Months == 4] = -1\n",
    "sIdx[Months == 5] = -1\n",
    "\n",
    "sIdx[Months == 9] = -1 #Set fall to -1\n",
    "sIdx[Months == 10] = -1\n",
    "sIdx[Months == 11] = -1"
   ]
  },
  {
   "cell_type": "code",
   "execution_count": 13,
   "id": "9ed7f0dc",
   "metadata": {},
   "outputs": [
    {
     "data": {
      "text/html": [
       "<div>\n",
       "<style scoped>\n",
       "    .dataframe tbody tr th:only-of-type {\n",
       "        vertical-align: middle;\n",
       "    }\n",
       "\n",
       "    .dataframe tbody tr th {\n",
       "        vertical-align: top;\n",
       "    }\n",
       "\n",
       "    .dataframe thead th {\n",
       "        text-align: right;\n",
       "    }\n",
       "</style>\n",
       "<table border=\"1\" class=\"dataframe\">\n",
       "  <thead>\n",
       "    <tr style=\"text-align: right;\">\n",
       "      <th></th>\n",
       "      <th>PM</th>\n",
       "      <th>date</th>\n",
       "      <th>NO2</th>\n",
       "      <th>O3</th>\n",
       "      <th>season</th>\n",
       "    </tr>\n",
       "  </thead>\n",
       "  <tbody>\n",
       "    <tr>\n",
       "      <th>0</th>\n",
       "      <td>5.087500</td>\n",
       "      <td>2023-01-01</td>\n",
       "      <td>4.816667</td>\n",
       "      <td>0.031708</td>\n",
       "      <td>0</td>\n",
       "    </tr>\n",
       "    <tr>\n",
       "      <th>1</th>\n",
       "      <td>5.087500</td>\n",
       "      <td>2023-01-01</td>\n",
       "      <td>4.550000</td>\n",
       "      <td>0.031708</td>\n",
       "      <td>0</td>\n",
       "    </tr>\n",
       "    <tr>\n",
       "      <th>2</th>\n",
       "      <td>5.087500</td>\n",
       "      <td>2023-01-01</td>\n",
       "      <td>4.550000</td>\n",
       "      <td>0.031708</td>\n",
       "      <td>0</td>\n",
       "    </tr>\n",
       "    <tr>\n",
       "      <th>3</th>\n",
       "      <td>5.087500</td>\n",
       "      <td>2023-01-01</td>\n",
       "      <td>4.816667</td>\n",
       "      <td>0.031708</td>\n",
       "      <td>0</td>\n",
       "    </tr>\n",
       "    <tr>\n",
       "      <th>4</th>\n",
       "      <td>9.187500</td>\n",
       "      <td>2023-01-02</td>\n",
       "      <td>14.720833</td>\n",
       "      <td>0.015792</td>\n",
       "      <td>0</td>\n",
       "    </tr>\n",
       "    <tr>\n",
       "      <th>...</th>\n",
       "      <td>...</td>\n",
       "      <td>...</td>\n",
       "      <td>...</td>\n",
       "      <td>...</td>\n",
       "      <td>...</td>\n",
       "    </tr>\n",
       "    <tr>\n",
       "      <th>1079</th>\n",
       "      <td>10.875000</td>\n",
       "      <td>2023-09-29</td>\n",
       "      <td>8.614286</td>\n",
       "      <td>0.039048</td>\n",
       "      <td>-1</td>\n",
       "    </tr>\n",
       "    <tr>\n",
       "      <th>1080</th>\n",
       "      <td>6.416667</td>\n",
       "      <td>2023-09-30</td>\n",
       "      <td>6.370833</td>\n",
       "      <td>0.030042</td>\n",
       "      <td>-1</td>\n",
       "    </tr>\n",
       "    <tr>\n",
       "      <th>1081</th>\n",
       "      <td>6.416667</td>\n",
       "      <td>2023-09-30</td>\n",
       "      <td>6.370833</td>\n",
       "      <td>0.030042</td>\n",
       "      <td>-1</td>\n",
       "    </tr>\n",
       "    <tr>\n",
       "      <th>1082</th>\n",
       "      <td>6.416667</td>\n",
       "      <td>2023-09-30</td>\n",
       "      <td>7.362500</td>\n",
       "      <td>0.030042</td>\n",
       "      <td>-1</td>\n",
       "    </tr>\n",
       "    <tr>\n",
       "      <th>1083</th>\n",
       "      <td>6.416667</td>\n",
       "      <td>2023-09-30</td>\n",
       "      <td>7.362500</td>\n",
       "      <td>0.030042</td>\n",
       "      <td>-1</td>\n",
       "    </tr>\n",
       "  </tbody>\n",
       "</table>\n",
       "<p>1084 rows × 5 columns</p>\n",
       "</div>"
      ],
      "text/plain": [
       "             PM        date        NO2        O3  season\n",
       "0      5.087500  2023-01-01   4.816667  0.031708       0\n",
       "1      5.087500  2023-01-01   4.550000  0.031708       0\n",
       "2      5.087500  2023-01-01   4.550000  0.031708       0\n",
       "3      5.087500  2023-01-01   4.816667  0.031708       0\n",
       "4      9.187500  2023-01-02  14.720833  0.015792       0\n",
       "...         ...         ...        ...       ...     ...\n",
       "1079  10.875000  2023-09-29   8.614286  0.039048      -1\n",
       "1080   6.416667  2023-09-30   6.370833  0.030042      -1\n",
       "1081   6.416667  2023-09-30   6.370833  0.030042      -1\n",
       "1082   6.416667  2023-09-30   7.362500  0.030042      -1\n",
       "1083   6.416667  2023-09-30   7.362500  0.030042      -1\n",
       "\n",
       "[1084 rows x 5 columns]"
      ]
     },
     "execution_count": 13,
     "metadata": {},
     "output_type": "execute_result"
    }
   ],
   "source": [
    "oz_n_pm['season'] = sIdx\n",
    "oz_n_pm"
   ]
  },
  {
   "cell_type": "code",
   "execution_count": 14,
   "id": "e385d4f9",
   "metadata": {},
   "outputs": [
    {
     "data": {
      "text/html": [
       "<div>\n",
       "<style scoped>\n",
       "    .dataframe tbody tr th:only-of-type {\n",
       "        vertical-align: middle;\n",
       "    }\n",
       "\n",
       "    .dataframe tbody tr th {\n",
       "        vertical-align: top;\n",
       "    }\n",
       "\n",
       "    .dataframe thead th {\n",
       "        text-align: right;\n",
       "    }\n",
       "</style>\n",
       "<table border=\"1\" class=\"dataframe\">\n",
       "  <thead>\n",
       "    <tr style=\"text-align: right;\">\n",
       "      <th></th>\n",
       "      <th>PM</th>\n",
       "      <th>NO2</th>\n",
       "      <th>O3</th>\n",
       "      <th>season</th>\n",
       "    </tr>\n",
       "  </thead>\n",
       "  <tbody>\n",
       "    <tr>\n",
       "      <th>count</th>\n",
       "      <td>604.000000</td>\n",
       "      <td>604.000000</td>\n",
       "      <td>604.000000</td>\n",
       "      <td>604.000000</td>\n",
       "    </tr>\n",
       "    <tr>\n",
       "      <th>mean</th>\n",
       "      <td>11.883327</td>\n",
       "      <td>14.908291</td>\n",
       "      <td>0.025534</td>\n",
       "      <td>0.609272</td>\n",
       "    </tr>\n",
       "    <tr>\n",
       "      <th>std</th>\n",
       "      <td>4.928007</td>\n",
       "      <td>6.819712</td>\n",
       "      <td>0.007501</td>\n",
       "      <td>0.488318</td>\n",
       "    </tr>\n",
       "    <tr>\n",
       "      <th>min</th>\n",
       "      <td>3.250000</td>\n",
       "      <td>4.250000</td>\n",
       "      <td>0.008333</td>\n",
       "      <td>0.000000</td>\n",
       "    </tr>\n",
       "    <tr>\n",
       "      <th>25%</th>\n",
       "      <td>8.545833</td>\n",
       "      <td>9.700000</td>\n",
       "      <td>0.022000</td>\n",
       "      <td>0.000000</td>\n",
       "    </tr>\n",
       "    <tr>\n",
       "      <th>50%</th>\n",
       "      <td>10.900000</td>\n",
       "      <td>13.425000</td>\n",
       "      <td>0.026417</td>\n",
       "      <td>1.000000</td>\n",
       "    </tr>\n",
       "    <tr>\n",
       "      <th>75%</th>\n",
       "      <td>15.266667</td>\n",
       "      <td>19.133333</td>\n",
       "      <td>0.031542</td>\n",
       "      <td>1.000000</td>\n",
       "    </tr>\n",
       "    <tr>\n",
       "      <th>max</th>\n",
       "      <td>31.979167</td>\n",
       "      <td>33.466667</td>\n",
       "      <td>0.042833</td>\n",
       "      <td>1.000000</td>\n",
       "    </tr>\n",
       "  </tbody>\n",
       "</table>\n",
       "</div>"
      ],
      "text/plain": [
       "               PM         NO2          O3      season\n",
       "count  604.000000  604.000000  604.000000  604.000000\n",
       "mean    11.883327   14.908291    0.025534    0.609272\n",
       "std      4.928007    6.819712    0.007501    0.488318\n",
       "min      3.250000    4.250000    0.008333    0.000000\n",
       "25%      8.545833    9.700000    0.022000    0.000000\n",
       "50%     10.900000   13.425000    0.026417    1.000000\n",
       "75%     15.266667   19.133333    0.031542    1.000000\n",
       "max     31.979167   33.466667    0.042833    1.000000"
      ]
     },
     "execution_count": 14,
     "metadata": {},
     "output_type": "execute_result"
    }
   ],
   "source": [
    "oz_n_pm = oz_n_pm[oz_n_pm['season'] > -1]\n",
    "oz_n_pm.describe()"
   ]
  },
  {
   "cell_type": "code",
   "execution_count": 15,
   "id": "962d521c",
   "metadata": {},
   "outputs": [],
   "source": [
    "X = oz_n_pm[[\"PM\", \"O3\", \"NO2\"]].to_numpy()"
   ]
  },
  {
   "cell_type": "code",
   "execution_count": 16,
   "id": "eab965b4",
   "metadata": {},
   "outputs": [],
   "source": [
    "y = oz_n_pm[\"season\"]"
   ]
  },
  {
   "cell_type": "code",
   "execution_count": 17,
   "id": "d7202edd",
   "metadata": {},
   "outputs": [
    {
     "data": {
      "text/plain": [
       "0      0\n",
       "1      0\n",
       "2      0\n",
       "3      0\n",
       "4      0\n",
       "      ..\n",
       "959    1\n",
       "960    1\n",
       "961    1\n",
       "962    1\n",
       "963    1\n",
       "Name: season, Length: 604, dtype: int32"
      ]
     },
     "execution_count": 17,
     "metadata": {},
     "output_type": "execute_result"
    }
   ],
   "source": [
    "y"
   ]
  },
  {
   "cell_type": "code",
   "execution_count": 18,
   "id": "462c9326",
   "metadata": {},
   "outputs": [],
   "source": [
    "from sklearn.model_selection import train_test_split\n",
    "#Splitting data set - test = 10% of data set\n",
    "X_train, X_test, y_train, y_test = train_test_split(X, y, test_size=0.1)\n",
    "\n",
    "#splitting training data set further to get validation set (15% of whole data set) leaving training set 75% of whole data set\n",
    "X_train, X_val, y_train, y_val = train_test_split(X_train, y_train, test_size=0.17)"
   ]
  },
  {
   "cell_type": "code",
   "execution_count": 19,
   "id": "70269faf",
   "metadata": {},
   "outputs": [],
   "source": [
    "alphas = np.arange(0, 1.05, 0.05).tolist()"
   ]
  },
  {
   "cell_type": "code",
   "execution_count": 29,
   "id": "8ea4a9ed",
   "metadata": {},
   "outputs": [
    {
     "name": "stdout",
     "output_type": "stream",
     "text": [
      "0.8512396694214877\n",
      "0.8264462809917356\n",
      "0.8264462809917356\n",
      "0.8264462809917356\n",
      "0.8264462809917356\n",
      "0.8264462809917356\n",
      "0.8264462809917356\n",
      "0.8264462809917356\n",
      "0.8264462809917356\n",
      "0.8264462809917356\n",
      "0.8264462809917356\n",
      "0.8264462809917356\n",
      "0.8264462809917356\n",
      "0.8264462809917356\n",
      "0.8264462809917356\n",
      "0.8264462809917356\n",
      "0.8264462809917356\n",
      "0.8264462809917356\n",
      "0.8264462809917356\n",
      "0.8264462809917356\n",
      "0.8264462809917356\n"
     ]
    }
   ],
   "source": [
    "#1- ridge classifier \n",
    "for i in alphas:\n",
    "    seasonClassifier = RidgeClassifier(alpha=i)\n",
    "    seasonClassifier.fit(X_train, y_train)\n",
    "    print(seasonClassifier.score(X_test, y_test))"
   ]
  },
  {
   "cell_type": "markdown",
   "id": "b7454c78",
   "metadata": {},
   "source": [
    "2: the cost function is an ordinary least squares cost function plus an added term for minimizing the fitting coefficients (lambda between 0-1 multiplied by the sum of the fitting parameters squared)\n",
    "\n",
    "3: On training data, we get the highest accuracy using a ridge parameter of 0.00\n",
    "\n",
    "The accuracy is 85.1% meaning our error is 14.9%"
   ]
  },
  {
   "cell_type": "code",
   "execution_count": 30,
   "id": "fa19668d",
   "metadata": {},
   "outputs": [
    {
     "name": "stdout",
     "output_type": "stream",
     "text": [
      "0.8760330578512396\n",
      "0.8512396694214877\n",
      "0.8512396694214877\n",
      "0.8512396694214877\n",
      "0.8512396694214877\n",
      "0.8512396694214877\n",
      "0.8512396694214877\n",
      "0.8512396694214877\n",
      "0.8512396694214877\n",
      "0.8512396694214877\n",
      "0.8512396694214877\n",
      "0.8512396694214877\n",
      "0.8512396694214877\n",
      "0.8512396694214877\n",
      "0.8512396694214877\n",
      "0.8512396694214877\n",
      "0.8512396694214877\n",
      "0.8512396694214877\n",
      "0.8512396694214877\n",
      "0.8512396694214877\n",
      "0.8512396694214877\n"
     ]
    }
   ],
   "source": [
    "#running ridge classifier to classify summer vs winter on validation set\n",
    "for i in alphas:\n",
    "    seasonClassifier = RidgeClassifier(alpha=i)\n",
    "    seasonClassifier.fit(X_val, y_val)\n",
    "    print(seasonClassifier.score(X_test, y_test))"
   ]
  },
  {
   "cell_type": "markdown",
   "id": "bc917d89",
   "metadata": {},
   "source": [
    "4: On validation data, we get the highest accuracy using a ridge parameter of 0.00\n",
    "\n",
    "The accuracy is 87.6% meaning our error is 12.4%"
   ]
  },
  {
   "cell_type": "code",
   "execution_count": 31,
   "id": "673f5b95",
   "metadata": {},
   "outputs": [
    {
     "name": "stdout",
     "output_type": "stream",
     "text": [
      "0.8760330578512396\n"
     ]
    }
   ],
   "source": [
    "#5- Final Model\n",
    "seasonClassifier = RidgeClassifier(alpha=0)\n",
    "seasonClassifier.fit(X_val, y_val)\n",
    "print(seasonClassifier.score(X_test, y_test))"
   ]
  },
  {
   "cell_type": "code",
   "execution_count": 25,
   "id": "8b095c65",
   "metadata": {},
   "outputs": [],
   "source": [
    "#6- re-splitting our data\n",
    "#Splitting data set - test = 10% of data set\n",
    "X_train, X_test, y_train, y_test = train_test_split(X, y, test_size=0.1)\n",
    "\n",
    "#splitting training data set further to get validation set (20% of whole data set) leaving training set 60% of whole data set\n",
    "X_train, X_val, y_train, y_val = train_test_split(X_train, y_train, test_size=0.17)"
   ]
  },
  {
   "cell_type": "code",
   "execution_count": 26,
   "id": "c2ddc444",
   "metadata": {},
   "outputs": [
    {
     "name": "stdout",
     "output_type": "stream",
     "text": [
      "0.8704663212435233\n",
      "0.8730569948186528\n",
      "0.8730569948186528\n",
      "0.8730569948186528\n",
      "0.8730569948186528\n",
      "0.8730569948186528\n",
      "0.8730569948186528\n",
      "0.8730569948186528\n",
      "0.8730569948186528\n",
      "0.8730569948186528\n",
      "0.8730569948186528\n",
      "0.8730569948186528\n",
      "0.8704663212435233\n",
      "0.8704663212435233\n",
      "0.8704663212435233\n",
      "0.8704663212435233\n",
      "0.8704663212435233\n",
      "0.8704663212435233\n",
      "0.8704663212435233\n",
      "0.8704663212435233\n",
      "0.8704663212435233\n"
     ]
    }
   ],
   "source": [
    "for i in alphas:\n",
    "    seasonClassifier = RidgeClassifier(alpha=i)\n",
    "    seasonClassifier.fit(X_train, y_train)\n",
    "    print(seasonClassifier.score(X_train, y_train))"
   ]
  },
  {
   "cell_type": "code",
   "execution_count": 27,
   "id": "62a2cd49",
   "metadata": {},
   "outputs": [
    {
     "name": "stdout",
     "output_type": "stream",
     "text": [
      "0.8350515463917526\n",
      "0.8350515463917526\n",
      "0.8350515463917526\n",
      "0.8350515463917526\n",
      "0.8350515463917526\n",
      "0.8350515463917526\n",
      "0.8350515463917526\n",
      "0.8350515463917526\n",
      "0.8350515463917526\n",
      "0.8350515463917526\n",
      "0.8350515463917526\n",
      "0.8350515463917526\n",
      "0.8350515463917526\n",
      "0.8350515463917526\n",
      "0.8350515463917526\n",
      "0.8350515463917526\n",
      "0.8350515463917526\n",
      "0.8350515463917526\n",
      "0.8350515463917526\n",
      "0.8350515463917526\n",
      "0.8350515463917526\n"
     ]
    }
   ],
   "source": [
    "for i in alphas:\n",
    "    seasonClassifier = RidgeClassifier(alpha=i)\n",
    "    seasonClassifier.fit(X_val, y_val)\n",
    "    print(seasonClassifier.score(X_val, y_val))"
   ]
  },
  {
   "cell_type": "markdown",
   "id": "cec73851",
   "metadata": {},
   "source": [
    "Results are different after data is re-split."
   ]
  },
  {
   "cell_type": "code",
   "execution_count": 28,
   "id": "df61f86d",
   "metadata": {},
   "outputs": [
    {
     "data": {
      "text/plain": [
       "0.8429752066115702"
      ]
     },
     "execution_count": 28,
     "metadata": {},
     "output_type": "execute_result"
    }
   ],
   "source": [
    "#7- Logistic regression model\n",
    "log = linear_model.LogisticRegression()\n",
    "log.fit(X_train, y_train)\n",
    "y_pred = log.predict(X_test)\n",
    "log.score(X_test, y_test)"
   ]
  },
  {
   "cell_type": "markdown",
   "id": "dc6bc039",
   "metadata": {},
   "source": [
    "In this case, the ridge regresssion performs better than the logistic regression (87.6% accuracy vs 84.3% accuracy)."
   ]
  }
 ],
 "metadata": {
  "kernelspec": {
   "display_name": "Python 3 (ipykernel)",
   "language": "python",
   "name": "python3"
  },
  "language_info": {
   "codemirror_mode": {
    "name": "ipython",
    "version": 3
   },
   "file_extension": ".py",
   "mimetype": "text/x-python",
   "name": "python",
   "nbconvert_exporter": "python",
   "pygments_lexer": "ipython3",
   "version": "3.11.5"
  }
 },
 "nbformat": 4,
 "nbformat_minor": 5
}
