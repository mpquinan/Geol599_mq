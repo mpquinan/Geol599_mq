{
 "cells": [
  {
   "cell_type": "code",
   "execution_count": 2,
   "id": "4624b7f4",
   "metadata": {},
   "outputs": [
    {
     "name": "stdout",
     "output_type": "stream",
     "text": [
      "Collecting xgboost\n",
      "  Obtaining dependency information for xgboost from https://files.pythonhosted.org/packages/45/6d/8c1d2570a52db6263d855c3ee3daf8f4bdf4a365cd6610772d6fce5fd904/xgboost-2.0.3-py3-none-macosx_10_15_x86_64.macosx_11_0_x86_64.macosx_12_0_x86_64.whl.metadata\n",
      "  Downloading xgboost-2.0.3-py3-none-macosx_10_15_x86_64.macosx_11_0_x86_64.macosx_12_0_x86_64.whl.metadata (2.0 kB)\n",
      "Requirement already satisfied: numpy in /Users/matthewq/anaconda3/lib/python3.11/site-packages (from xgboost) (1.24.3)\n",
      "Requirement already satisfied: scipy in /Users/matthewq/anaconda3/lib/python3.11/site-packages (from xgboost) (1.11.1)\n",
      "Downloading xgboost-2.0.3-py3-none-macosx_10_15_x86_64.macosx_11_0_x86_64.macosx_12_0_x86_64.whl (2.2 MB)\n",
      "\u001b[2K   \u001b[90m━━━━━━━━━━━━━━━━━━━━━━━━━━━━━━━━━━━━━━━━\u001b[0m \u001b[32m2.2/2.2 MB\u001b[0m \u001b[31m433.3 kB/s\u001b[0m eta \u001b[36m0:00:00\u001b[0m00:01\u001b[0m00:01\u001b[0m\n",
      "\u001b[?25hInstalling collected packages: xgboost\n",
      "Successfully installed xgboost-2.0.3\n",
      "Note: you may need to restart the kernel to use updated packages.\n"
     ]
    }
   ],
   "source": [
    "pip install xgboost"
   ]
  },
  {
   "cell_type": "code",
   "execution_count": 13,
   "id": "9125a451",
   "metadata": {},
   "outputs": [],
   "source": [
    "import pandas as pd\n",
    "import numpy as np\n",
    "from matplotlib import pyplot as plt\n",
    "import seaborn as sns\n",
    "from sklearn.model_selection import train_test_split\n",
    "from xgboost import XGBRegressor\n",
    "from sklearn import linear_model\n",
    "from sklearn.linear_model import RidgeClassifier\n",
    "from sklearn.metrics import mean_squared_error"
   ]
  },
  {
   "cell_type": "code",
   "execution_count": 4,
   "id": "683d851b",
   "metadata": {},
   "outputs": [
    {
     "data": {
      "text/html": [
       "<div>\n",
       "<style scoped>\n",
       "    .dataframe tbody tr th:only-of-type {\n",
       "        vertical-align: middle;\n",
       "    }\n",
       "\n",
       "    .dataframe tbody tr th {\n",
       "        vertical-align: top;\n",
       "    }\n",
       "\n",
       "    .dataframe thead th {\n",
       "        text-align: right;\n",
       "    }\n",
       "</style>\n",
       "<table border=\"1\" class=\"dataframe\">\n",
       "  <thead>\n",
       "    <tr style=\"text-align: right;\">\n",
       "      <th></th>\n",
       "      <th>YY</th>\n",
       "      <th>MM</th>\n",
       "      <th>DD</th>\n",
       "      <th>hh</th>\n",
       "      <th>mm</th>\n",
       "      <th>WDIR</th>\n",
       "      <th>WSPD</th>\n",
       "      <th>GST</th>\n",
       "      <th>WVHT</th>\n",
       "      <th>DPD</th>\n",
       "      <th>APD</th>\n",
       "      <th>MWD</th>\n",
       "      <th>PRES</th>\n",
       "      <th>ATMP</th>\n",
       "      <th>WTMP</th>\n",
       "      <th>DEWP</th>\n",
       "      <th>VIS</th>\n",
       "      <th>TIDE</th>\n",
       "    </tr>\n",
       "  </thead>\n",
       "  <tbody>\n",
       "    <tr>\n",
       "      <th>count</th>\n",
       "      <td>17285.0</td>\n",
       "      <td>17285.000000</td>\n",
       "      <td>17285.000000</td>\n",
       "      <td>17285.000000</td>\n",
       "      <td>17285.000000</td>\n",
       "      <td>17285.0</td>\n",
       "      <td>17285.0</td>\n",
       "      <td>17285.0</td>\n",
       "      <td>17285.000000</td>\n",
       "      <td>17285.000000</td>\n",
       "      <td>17285.000000</td>\n",
       "      <td>17285.000000</td>\n",
       "      <td>17285.0</td>\n",
       "      <td>17285.0</td>\n",
       "      <td>17285.000000</td>\n",
       "      <td>17285.0</td>\n",
       "      <td>17285.0</td>\n",
       "      <td>17285.0</td>\n",
       "    </tr>\n",
       "    <tr>\n",
       "      <th>mean</th>\n",
       "      <td>2023.0</td>\n",
       "      <td>6.526063</td>\n",
       "      <td>15.800579</td>\n",
       "      <td>11.499277</td>\n",
       "      <td>40.985594</td>\n",
       "      <td>999.0</td>\n",
       "      <td>99.0</td>\n",
       "      <td>99.0</td>\n",
       "      <td>1.083535</td>\n",
       "      <td>12.161879</td>\n",
       "      <td>6.813054</td>\n",
       "      <td>234.556205</td>\n",
       "      <td>9999.0</td>\n",
       "      <td>999.0</td>\n",
       "      <td>17.196535</td>\n",
       "      <td>999.0</td>\n",
       "      <td>99.0</td>\n",
       "      <td>99.0</td>\n",
       "    </tr>\n",
       "    <tr>\n",
       "      <th>std</th>\n",
       "      <td>0.0</td>\n",
       "      <td>3.467253</td>\n",
       "      <td>8.817920</td>\n",
       "      <td>6.925343</td>\n",
       "      <td>15.007646</td>\n",
       "      <td>0.0</td>\n",
       "      <td>0.0</td>\n",
       "      <td>0.0</td>\n",
       "      <td>2.296129</td>\n",
       "      <td>4.165737</td>\n",
       "      <td>2.803208</td>\n",
       "      <td>49.429981</td>\n",
       "      <td>0.0</td>\n",
       "      <td>0.0</td>\n",
       "      <td>2.564664</td>\n",
       "      <td>0.0</td>\n",
       "      <td>0.0</td>\n",
       "      <td>0.0</td>\n",
       "    </tr>\n",
       "    <tr>\n",
       "      <th>min</th>\n",
       "      <td>2023.0</td>\n",
       "      <td>1.000000</td>\n",
       "      <td>1.000000</td>\n",
       "      <td>0.000000</td>\n",
       "      <td>0.000000</td>\n",
       "      <td>999.0</td>\n",
       "      <td>99.0</td>\n",
       "      <td>99.0</td>\n",
       "      <td>0.330000</td>\n",
       "      <td>2.860000</td>\n",
       "      <td>3.420000</td>\n",
       "      <td>10.000000</td>\n",
       "      <td>9999.0</td>\n",
       "      <td>999.0</td>\n",
       "      <td>11.800000</td>\n",
       "      <td>999.0</td>\n",
       "      <td>99.0</td>\n",
       "      <td>99.0</td>\n",
       "    </tr>\n",
       "    <tr>\n",
       "      <th>25%</th>\n",
       "      <td>2023.0</td>\n",
       "      <td>4.000000</td>\n",
       "      <td>8.000000</td>\n",
       "      <td>5.000000</td>\n",
       "      <td>26.000000</td>\n",
       "      <td>999.0</td>\n",
       "      <td>99.0</td>\n",
       "      <td>99.0</td>\n",
       "      <td>0.730000</td>\n",
       "      <td>9.090000</td>\n",
       "      <td>5.500000</td>\n",
       "      <td>179.000000</td>\n",
       "      <td>9999.0</td>\n",
       "      <td>999.0</td>\n",
       "      <td>14.600000</td>\n",
       "      <td>999.0</td>\n",
       "      <td>99.0</td>\n",
       "      <td>99.0</td>\n",
       "    </tr>\n",
       "    <tr>\n",
       "      <th>50%</th>\n",
       "      <td>2023.0</td>\n",
       "      <td>6.000000</td>\n",
       "      <td>16.000000</td>\n",
       "      <td>11.000000</td>\n",
       "      <td>26.000000</td>\n",
       "      <td>999.0</td>\n",
       "      <td>99.0</td>\n",
       "      <td>99.0</td>\n",
       "      <td>0.880000</td>\n",
       "      <td>12.500000</td>\n",
       "      <td>6.360000</td>\n",
       "      <td>263.000000</td>\n",
       "      <td>9999.0</td>\n",
       "      <td>999.0</td>\n",
       "      <td>17.500000</td>\n",
       "      <td>999.0</td>\n",
       "      <td>99.0</td>\n",
       "      <td>99.0</td>\n",
       "    </tr>\n",
       "    <tr>\n",
       "      <th>75%</th>\n",
       "      <td>2023.0</td>\n",
       "      <td>10.000000</td>\n",
       "      <td>23.000000</td>\n",
       "      <td>18.000000</td>\n",
       "      <td>56.000000</td>\n",
       "      <td>999.0</td>\n",
       "      <td>99.0</td>\n",
       "      <td>99.0</td>\n",
       "      <td>1.140000</td>\n",
       "      <td>14.290000</td>\n",
       "      <td>7.550000</td>\n",
       "      <td>271.000000</td>\n",
       "      <td>9999.0</td>\n",
       "      <td>999.0</td>\n",
       "      <td>19.400000</td>\n",
       "      <td>999.0</td>\n",
       "      <td>99.0</td>\n",
       "      <td>99.0</td>\n",
       "    </tr>\n",
       "    <tr>\n",
       "      <th>max</th>\n",
       "      <td>2023.0</td>\n",
       "      <td>12.000000</td>\n",
       "      <td>31.000000</td>\n",
       "      <td>23.000000</td>\n",
       "      <td>56.000000</td>\n",
       "      <td>999.0</td>\n",
       "      <td>99.0</td>\n",
       "      <td>99.0</td>\n",
       "      <td>99.000000</td>\n",
       "      <td>99.000000</td>\n",
       "      <td>99.000000</td>\n",
       "      <td>999.000000</td>\n",
       "      <td>9999.0</td>\n",
       "      <td>999.0</td>\n",
       "      <td>23.900000</td>\n",
       "      <td>999.0</td>\n",
       "      <td>99.0</td>\n",
       "      <td>99.0</td>\n",
       "    </tr>\n",
       "  </tbody>\n",
       "</table>\n",
       "</div>"
      ],
      "text/plain": [
       "            YY            MM            DD            hh            mm  \\\n",
       "count  17285.0  17285.000000  17285.000000  17285.000000  17285.000000   \n",
       "mean    2023.0      6.526063     15.800579     11.499277     40.985594   \n",
       "std        0.0      3.467253      8.817920      6.925343     15.007646   \n",
       "min     2023.0      1.000000      1.000000      0.000000      0.000000   \n",
       "25%     2023.0      4.000000      8.000000      5.000000     26.000000   \n",
       "50%     2023.0      6.000000     16.000000     11.000000     26.000000   \n",
       "75%     2023.0     10.000000     23.000000     18.000000     56.000000   \n",
       "max     2023.0     12.000000     31.000000     23.000000     56.000000   \n",
       "\n",
       "          WDIR     WSPD      GST          WVHT           DPD           APD  \\\n",
       "count  17285.0  17285.0  17285.0  17285.000000  17285.000000  17285.000000   \n",
       "mean     999.0     99.0     99.0      1.083535     12.161879      6.813054   \n",
       "std        0.0      0.0      0.0      2.296129      4.165737      2.803208   \n",
       "min      999.0     99.0     99.0      0.330000      2.860000      3.420000   \n",
       "25%      999.0     99.0     99.0      0.730000      9.090000      5.500000   \n",
       "50%      999.0     99.0     99.0      0.880000     12.500000      6.360000   \n",
       "75%      999.0     99.0     99.0      1.140000     14.290000      7.550000   \n",
       "max      999.0     99.0     99.0     99.000000     99.000000     99.000000   \n",
       "\n",
       "                MWD     PRES     ATMP          WTMP     DEWP      VIS     TIDE  \n",
       "count  17285.000000  17285.0  17285.0  17285.000000  17285.0  17285.0  17285.0  \n",
       "mean     234.556205   9999.0    999.0     17.196535    999.0     99.0     99.0  \n",
       "std       49.429981      0.0      0.0      2.564664      0.0      0.0      0.0  \n",
       "min       10.000000   9999.0    999.0     11.800000    999.0     99.0     99.0  \n",
       "25%      179.000000   9999.0    999.0     14.600000    999.0     99.0     99.0  \n",
       "50%      263.000000   9999.0    999.0     17.500000    999.0     99.0     99.0  \n",
       "75%      271.000000   9999.0    999.0     19.400000    999.0     99.0     99.0  \n",
       "max      999.000000   9999.0    999.0     23.900000    999.0     99.0     99.0  "
      ]
     },
     "execution_count": 4,
     "metadata": {},
     "output_type": "execute_result"
    }
   ],
   "source": [
    "buoy = pd.read_csv(\"/Users/matthewq/Geol_599/week9/Waves_2023.txt\", sep='\\s+') \n",
    "buoy.describe()"
   ]
  },
  {
   "cell_type": "code",
   "execution_count": 10,
   "id": "fa5e2ab3",
   "metadata": {},
   "outputs": [
    {
     "data": {
      "text/html": [
       "<div>\n",
       "<style scoped>\n",
       "    .dataframe tbody tr th:only-of-type {\n",
       "        vertical-align: middle;\n",
       "    }\n",
       "\n",
       "    .dataframe tbody tr th {\n",
       "        vertical-align: top;\n",
       "    }\n",
       "\n",
       "    .dataframe thead th {\n",
       "        text-align: right;\n",
       "    }\n",
       "</style>\n",
       "<table border=\"1\" class=\"dataframe\">\n",
       "  <thead>\n",
       "    <tr style=\"text-align: right;\">\n",
       "      <th></th>\n",
       "      <th>WVHT</th>\n",
       "      <th>DPD</th>\n",
       "      <th>APD</th>\n",
       "      <th>MWD</th>\n",
       "      <th>WTMP</th>\n",
       "    </tr>\n",
       "  </thead>\n",
       "  <tbody>\n",
       "    <tr>\n",
       "      <th>count</th>\n",
       "      <td>17285.000000</td>\n",
       "      <td>17285.000000</td>\n",
       "      <td>17285.000000</td>\n",
       "      <td>17285.000000</td>\n",
       "      <td>17285.000000</td>\n",
       "    </tr>\n",
       "    <tr>\n",
       "      <th>mean</th>\n",
       "      <td>1.083535</td>\n",
       "      <td>12.161879</td>\n",
       "      <td>6.813054</td>\n",
       "      <td>234.556205</td>\n",
       "      <td>17.196535</td>\n",
       "    </tr>\n",
       "    <tr>\n",
       "      <th>std</th>\n",
       "      <td>2.296129</td>\n",
       "      <td>4.165737</td>\n",
       "      <td>2.803208</td>\n",
       "      <td>49.429981</td>\n",
       "      <td>2.564664</td>\n",
       "    </tr>\n",
       "    <tr>\n",
       "      <th>min</th>\n",
       "      <td>0.330000</td>\n",
       "      <td>2.860000</td>\n",
       "      <td>3.420000</td>\n",
       "      <td>10.000000</td>\n",
       "      <td>11.800000</td>\n",
       "    </tr>\n",
       "    <tr>\n",
       "      <th>25%</th>\n",
       "      <td>0.730000</td>\n",
       "      <td>9.090000</td>\n",
       "      <td>5.500000</td>\n",
       "      <td>179.000000</td>\n",
       "      <td>14.600000</td>\n",
       "    </tr>\n",
       "    <tr>\n",
       "      <th>50%</th>\n",
       "      <td>0.880000</td>\n",
       "      <td>12.500000</td>\n",
       "      <td>6.360000</td>\n",
       "      <td>263.000000</td>\n",
       "      <td>17.500000</td>\n",
       "    </tr>\n",
       "    <tr>\n",
       "      <th>75%</th>\n",
       "      <td>1.140000</td>\n",
       "      <td>14.290000</td>\n",
       "      <td>7.550000</td>\n",
       "      <td>271.000000</td>\n",
       "      <td>19.400000</td>\n",
       "    </tr>\n",
       "    <tr>\n",
       "      <th>max</th>\n",
       "      <td>99.000000</td>\n",
       "      <td>99.000000</td>\n",
       "      <td>99.000000</td>\n",
       "      <td>999.000000</td>\n",
       "      <td>23.900000</td>\n",
       "    </tr>\n",
       "  </tbody>\n",
       "</table>\n",
       "</div>"
      ],
      "text/plain": [
       "               WVHT           DPD           APD           MWD          WTMP\n",
       "count  17285.000000  17285.000000  17285.000000  17285.000000  17285.000000\n",
       "mean       1.083535     12.161879      6.813054    234.556205     17.196535\n",
       "std        2.296129      4.165737      2.803208     49.429981      2.564664\n",
       "min        0.330000      2.860000      3.420000     10.000000     11.800000\n",
       "25%        0.730000      9.090000      5.500000    179.000000     14.600000\n",
       "50%        0.880000     12.500000      6.360000    263.000000     17.500000\n",
       "75%        1.140000     14.290000      7.550000    271.000000     19.400000\n",
       "max       99.000000     99.000000     99.000000    999.000000     23.900000"
      ]
     },
     "execution_count": 10,
     "metadata": {},
     "output_type": "execute_result"
    }
   ],
   "source": [
    "buoy_use = buoy[['WVHT', 'DPD', 'APD', 'MWD', 'WTMP']].copy()\n",
    "buoy_use.describe()"
   ]
  },
  {
   "cell_type": "code",
   "execution_count": 11,
   "id": "b3108049",
   "metadata": {},
   "outputs": [
    {
     "data": {
      "text/plain": [
       "WVHT    0\n",
       "DPD     0\n",
       "APD     0\n",
       "MWD     0\n",
       "WTMP    0\n",
       "dtype: int64"
      ]
     },
     "execution_count": 11,
     "metadata": {},
     "output_type": "execute_result"
    }
   ],
   "source": [
    "buoy_use.isna().sum() #check for any NA values"
   ]
  },
  {
   "cell_type": "code",
   "execution_count": 12,
   "id": "bbe65f6e",
   "metadata": {},
   "outputs": [],
   "source": [
    "X = buoy_use[[\"DPD\", \"APD\", \"MWD\", 'WTMP']].to_numpy()\n",
    "y = buoy_use[['WVHT']]\n",
    "\n",
    "#Splitting data set - test = 10% of data set\n",
    "X_train, X_test, y_train, y_test = train_test_split(X, y, test_size=0.1)\n",
    "\n",
    "#splitting training data set further to get validation set (15% of whole data set) leaving training set 75% of whole data set\n",
    "X_train, X_val, y_train, y_val = train_test_split(X_train, y_train, test_size=0.17)"
   ]
  },
  {
   "cell_type": "code",
   "execution_count": 21,
   "id": "11a45532-580b-46f0-b8df-7cea1930d261",
   "metadata": {},
   "outputs": [
    {
     "name": "stdout",
     "output_type": "stream",
     "text": [
      "[0.0, 0.1, 0.2, 0.3, 0.4, 0.5, 0.6, 0.7, 0.8, 0.9, 1.0]\n"
     ]
    }
   ],
   "source": [
    "l_rate = [0.0, 0.1, 0.2, 0.3, 0.4, 0.5, 0.6, 0.7, 0.8, 0.9, 1.0]\n",
    "print(l_rate)"
   ]
  },
  {
   "cell_type": "code",
   "execution_count": 29,
   "id": "534ee8ed",
   "metadata": {},
   "outputs": [],
   "source": [
    "#making empty data frame\n",
    "error = pd.DataFrame(columns=['Learning Rate', 'Training MSE', 'Validation MSE'])\n",
    "\n",
    "for i in l_rate:\n",
    "    bst = XGBRegressor(n_estimators=25, learning_rate=i)\n",
    "    bst = bst.fit(X_train, y_train.values.ravel())\n",
    "    bst_ypred_train = bst.predict(X_train)\n",
    "    bst_ypred_val = bst.predict(X_val)\n",
    "    bst_mse_train = mean_squared_error(bst_ypred_train, y_train)\n",
    "    bst_mse_val = mean_squared_error(bst_ypred_val, y_val)\n",
    "    #generates row of wanted variables (number of trees, training data mse, validation data mse)\n",
    "    row = [i, bst_mse_train, bst_mse_val]\n",
    "    #adds rows of wanted variables to empty error dataframe\n",
    "    error.loc[len(error)] = row"
   ]
  },
  {
   "cell_type": "code",
   "execution_count": 30,
   "id": "4f86067e",
   "metadata": {},
   "outputs": [
    {
     "name": "stdout",
     "output_type": "stream",
     "text": [
      "    Learning Rate  Training MSE  Validation MSE\n",
      "0             0.0      3.998651       11.131989\n",
      "1             0.1      0.153186        0.254064\n",
      "2             0.2      0.091486        0.106656\n",
      "3             0.3      0.080223        0.101083\n",
      "4             0.4      0.070849        0.096772\n",
      "5             0.5      0.066546        0.097791\n",
      "6             0.6      0.061649        0.104608\n",
      "7             0.7      0.057489        0.101422\n",
      "8             0.8      0.053548        0.103535\n",
      "9             0.9      0.054944        0.105796\n",
      "10            1.0      0.053840        0.110170\n"
     ]
    }
   ],
   "source": [
    "print(error)"
   ]
  },
  {
   "cell_type": "markdown",
   "id": "3f858a24",
   "metadata": {},
   "source": [
    "1- Fitting boosted regression tree and baseline linear model \n",
    "2- XGBRegressor uses the XGBoost “reg:squarederror” loss function, baseline linear regression uses ordinary least squares cost function\n",
    "3- Optimized the learning rate above to figure out which value produces the best boosted regression model predictions"
   ]
  },
  {
   "cell_type": "code",
   "execution_count": 25,
   "id": "00f8699f",
   "metadata": {},
   "outputs": [],
   "source": [
    "#based off the lowest validation MSE, going to use a learning rate of 0.4\n",
    "bst = XGBRegressor(n_estimators=25, learning_rate=0.4)\n",
    "bst = bst.fit(X_train, y_train)\n",
    "\n",
    "bst_ypred_test = bst.predict(X_test)\n",
    "bst_ypred_train = bst.predict(X_train)\n",
    "bst_ypred_val = bst.predict(X_val)"
   ]
  },
  {
   "cell_type": "code",
   "execution_count": 27,
   "id": "1c83c980",
   "metadata": {},
   "outputs": [],
   "source": [
    "reg = linear_model.LinearRegression()\n",
    "reg.fit(X_train, y_train)\n",
    "\n",
    "reg_ypred_test = reg.predict(X_test)\n",
    "reg_ypred_train = reg.predict(X_train)\n",
    "reg_ypred_val = reg.predict(X_val)"
   ]
  },
  {
   "cell_type": "code",
   "execution_count": 31,
   "id": "033da854",
   "metadata": {},
   "outputs": [],
   "source": [
    "#Using mean squared error cost function to evaluate performance\n",
    "bst_mse_test = mean_squared_error(bst_ypred_test, y_test)\n",
    "reg_mse_test = mean_squared_error(reg_ypred_test, y_test)\n",
    "\n",
    "bst_mse_train = mean_squared_error(bst_ypred_train, y_train)\n",
    "reg_mse_train = mean_squared_error(reg_ypred_train, y_train)\n",
    "\n",
    "bst_mse_val = mean_squared_error(bst_ypred_val, y_val)\n",
    "reg_mse_val = mean_squared_error(reg_ypred_val, y_val)"
   ]
  },
  {
   "cell_type": "code",
   "execution_count": 33,
   "id": "8eaf69b1",
   "metadata": {},
   "outputs": [
    {
     "data": {
      "text/plain": [
       "(['test', 0.09496937620848063, 1.9457986836651036],\n",
       " ['train', 0.053840265361574165, 1.6137722346180894],\n",
       " ['validation', 0.11017030550966785, 2.9150332200809443])"
      ]
     },
     "execution_count": 33,
     "metadata": {},
     "output_type": "execute_result"
    }
   ],
   "source": [
    "#Reporting the performance of both models on testing, training, and validation data sets\n",
    "MSE = (['test', bst_mse_test, reg_mse_test], ['train', bst_mse_train, reg_mse_train], ['validation', bst_mse_val, reg_mse_val])\n",
    "MSE"
   ]
  },
  {
   "cell_type": "markdown",
   "id": "45854d04",
   "metadata": {},
   "source": [
    "The boosted regression tree model performs better than the linear regression model (lower MSE for each data set)"
   ]
  },
  {
   "cell_type": "markdown",
   "id": "dabedd5c",
   "metadata": {},
   "source": [
    "4- training boosted regression tree with different number of iterations and plotting below"
   ]
  },
  {
   "cell_type": "code",
   "execution_count": 34,
   "id": "4cf7eaee",
   "metadata": {},
   "outputs": [
    {
     "name": "stdout",
     "output_type": "stream",
     "text": [
      "[2, 10, 25, 50, 100, 250, 500, 1000]\n"
     ]
    }
   ],
   "source": [
    "iterations = [2, 10, 25, 50, 100, 250, 500, 1000]\n",
    "print(iterations)"
   ]
  },
  {
   "cell_type": "code",
   "execution_count": 38,
   "id": "8983c02e",
   "metadata": {},
   "outputs": [],
   "source": [
    "it_error = pd.DataFrame(columns=['Iterations', 'Training MSE', 'Validation MSE'])\n",
    "\n",
    "for i in iterations:\n",
    "    bst = XGBRegressor(n_estimators=i, learning_rate=0.4)\n",
    "    bst = bst.fit(X_train, y_train.values.ravel())\n",
    "    bst_ypred_train = bst.predict(X_train)\n",
    "    bst_ypred_val = bst.predict(X_val)\n",
    "    bst_mse_train = mean_squared_error(bst_ypred_train, y_train)\n",
    "    bst_mse_val = mean_squared_error(bst_ypred_val, y_val)\n",
    "    #generates row of wanted variables (number of trees, training data mse, validation data mse)\n",
    "    row = [i, bst_mse_train, bst_mse_val]\n",
    "    #adds rows of wanted variables to empty error dataframe\n",
    "    it_error.loc[len(it_error)] = row"
   ]
  },
  {
   "cell_type": "code",
   "execution_count": 39,
   "id": "4c68956e",
   "metadata": {},
   "outputs": [
    {
     "name": "stdout",
     "output_type": "stream",
     "text": [
      "   Iterations  Training MSE  Validation MSE\n",
      "0         2.0      0.879223        2.292028\n",
      "1        10.0      0.096801        0.113017\n",
      "2        25.0      0.070849        0.096772\n",
      "3        50.0      0.051907        0.091320\n",
      "4       100.0      0.034786        0.092498\n",
      "5       250.0      0.016993        0.096650\n",
      "6       500.0      0.006603        0.102310\n",
      "7      1000.0      0.001710        0.107290\n"
     ]
    }
   ],
   "source": [
    "print(it_error)"
   ]
  },
  {
   "cell_type": "code",
   "execution_count": 41,
   "id": "a1161e9f",
   "metadata": {},
   "outputs": [
    {
     "data": {
      "text/html": [
       "<div>\n",
       "<style scoped>\n",
       "    .dataframe tbody tr th:only-of-type {\n",
       "        vertical-align: middle;\n",
       "    }\n",
       "\n",
       "    .dataframe tbody tr th {\n",
       "        vertical-align: top;\n",
       "    }\n",
       "\n",
       "    .dataframe thead th {\n",
       "        text-align: right;\n",
       "    }\n",
       "</style>\n",
       "<table border=\"1\" class=\"dataframe\">\n",
       "  <thead>\n",
       "    <tr style=\"text-align: right;\">\n",
       "      <th></th>\n",
       "      <th>Iterations</th>\n",
       "      <th>Data set</th>\n",
       "      <th>mse</th>\n",
       "    </tr>\n",
       "  </thead>\n",
       "  <tbody>\n",
       "    <tr>\n",
       "      <th>0</th>\n",
       "      <td>2.0</td>\n",
       "      <td>Training MSE</td>\n",
       "      <td>0.879223</td>\n",
       "    </tr>\n",
       "    <tr>\n",
       "      <th>1</th>\n",
       "      <td>10.0</td>\n",
       "      <td>Training MSE</td>\n",
       "      <td>0.096801</td>\n",
       "    </tr>\n",
       "    <tr>\n",
       "      <th>2</th>\n",
       "      <td>25.0</td>\n",
       "      <td>Training MSE</td>\n",
       "      <td>0.070849</td>\n",
       "    </tr>\n",
       "    <tr>\n",
       "      <th>3</th>\n",
       "      <td>50.0</td>\n",
       "      <td>Training MSE</td>\n",
       "      <td>0.051907</td>\n",
       "    </tr>\n",
       "    <tr>\n",
       "      <th>4</th>\n",
       "      <td>100.0</td>\n",
       "      <td>Training MSE</td>\n",
       "      <td>0.034786</td>\n",
       "    </tr>\n",
       "    <tr>\n",
       "      <th>5</th>\n",
       "      <td>250.0</td>\n",
       "      <td>Training MSE</td>\n",
       "      <td>0.016993</td>\n",
       "    </tr>\n",
       "    <tr>\n",
       "      <th>6</th>\n",
       "      <td>500.0</td>\n",
       "      <td>Training MSE</td>\n",
       "      <td>0.006603</td>\n",
       "    </tr>\n",
       "    <tr>\n",
       "      <th>7</th>\n",
       "      <td>1000.0</td>\n",
       "      <td>Training MSE</td>\n",
       "      <td>0.001710</td>\n",
       "    </tr>\n",
       "    <tr>\n",
       "      <th>8</th>\n",
       "      <td>2.0</td>\n",
       "      <td>Validation MSE</td>\n",
       "      <td>2.292028</td>\n",
       "    </tr>\n",
       "    <tr>\n",
       "      <th>9</th>\n",
       "      <td>10.0</td>\n",
       "      <td>Validation MSE</td>\n",
       "      <td>0.113017</td>\n",
       "    </tr>\n",
       "    <tr>\n",
       "      <th>10</th>\n",
       "      <td>25.0</td>\n",
       "      <td>Validation MSE</td>\n",
       "      <td>0.096772</td>\n",
       "    </tr>\n",
       "    <tr>\n",
       "      <th>11</th>\n",
       "      <td>50.0</td>\n",
       "      <td>Validation MSE</td>\n",
       "      <td>0.091320</td>\n",
       "    </tr>\n",
       "    <tr>\n",
       "      <th>12</th>\n",
       "      <td>100.0</td>\n",
       "      <td>Validation MSE</td>\n",
       "      <td>0.092498</td>\n",
       "    </tr>\n",
       "    <tr>\n",
       "      <th>13</th>\n",
       "      <td>250.0</td>\n",
       "      <td>Validation MSE</td>\n",
       "      <td>0.096650</td>\n",
       "    </tr>\n",
       "    <tr>\n",
       "      <th>14</th>\n",
       "      <td>500.0</td>\n",
       "      <td>Validation MSE</td>\n",
       "      <td>0.102310</td>\n",
       "    </tr>\n",
       "    <tr>\n",
       "      <th>15</th>\n",
       "      <td>1000.0</td>\n",
       "      <td>Validation MSE</td>\n",
       "      <td>0.107290</td>\n",
       "    </tr>\n",
       "  </tbody>\n",
       "</table>\n",
       "</div>"
      ],
      "text/plain": [
       "    Iterations        Data set       mse\n",
       "0          2.0    Training MSE  0.879223\n",
       "1         10.0    Training MSE  0.096801\n",
       "2         25.0    Training MSE  0.070849\n",
       "3         50.0    Training MSE  0.051907\n",
       "4        100.0    Training MSE  0.034786\n",
       "5        250.0    Training MSE  0.016993\n",
       "6        500.0    Training MSE  0.006603\n",
       "7       1000.0    Training MSE  0.001710\n",
       "8          2.0  Validation MSE  2.292028\n",
       "9         10.0  Validation MSE  0.113017\n",
       "10        25.0  Validation MSE  0.096772\n",
       "11        50.0  Validation MSE  0.091320\n",
       "12       100.0  Validation MSE  0.092498\n",
       "13       250.0  Validation MSE  0.096650\n",
       "14       500.0  Validation MSE  0.102310\n",
       "15      1000.0  Validation MSE  0.107290"
      ]
     },
     "execution_count": 41,
     "metadata": {},
     "output_type": "execute_result"
    }
   ],
   "source": [
    "it_error_m = it_error.melt('Iterations', var_name='Data set', value_name='mse')\n",
    "it_error_m"
   ]
  },
  {
   "cell_type": "code",
   "execution_count": 66,
   "id": "9a91fc3c",
   "metadata": {},
   "outputs": [
    {
     "data": {
      "text/plain": [
       "[Text(0.5, 0, 'Number of Iterations'),\n",
       " Text(0, 0.5, 'log Mean Squared Error ($ft^{2}$)')]"
      ]
     },
     "execution_count": 66,
     "metadata": {},
     "output_type": "execute_result"
    },
    {
     "data": {
      "image/png": "[encoded data removed]",
      "text/plain": [
       "<Figure size 640x480 with 1 Axes>"
      ]
     },
     "metadata": {},
     "output_type": "display_data"
    }
   ],
   "source": [
    "mse_pl = sns.lineplot(x=it_error['Iterations'], y=np.log(it_error['Training MSE']), label = 'Training')\n",
    "mse_pl = sns.lineplot(x=it_error['Iterations'], y=np.log(it_error['Validation MSE']), label = 'Validation')\n",
    "\n",
    "mse_pl.set(xlabel='Number of Iterations', ylabel='log Mean Squared Error ($ft^{2}$)')"
   ]
  },
  {
   "cell_type": "markdown",
   "id": "30b311b8",
   "metadata": {},
   "source": [
    "5- No evidence of overfitting, becuase the validation MSE stays flat as iterations are increased"
   ]
  },
  {
   "cell_type": "code",
   "execution_count": 73,
   "id": "99f5b38c",
   "metadata": {},
   "outputs": [
    {
     "name": "stdout",
     "output_type": "stream",
     "text": [
      "[0]\tvalidation_0-rmse:2.23812\n",
      "[1]\tvalidation_0-rmse:1.51394\n",
      "[2]\tvalidation_0-rmse:1.04225\n",
      "[3]\tvalidation_0-rmse:0.74127\n",
      "[4]\tvalidation_0-rmse:0.55589\n",
      "[5]\tvalidation_0-rmse:0.45024\n",
      "[6]\tvalidation_0-rmse:0.39366\n",
      "[7]\tvalidation_0-rmse:0.35884\n",
      "[8]\tvalidation_0-rmse:0.34253\n",
      "[9]\tvalidation_0-rmse:0.33618\n",
      "[10]\tvalidation_0-rmse:0.33304\n",
      "[11]\tvalidation_0-rmse:0.32960\n",
      "[12]\tvalidation_0-rmse:0.32588\n",
      "[13]\tvalidation_0-rmse:0.32468\n",
      "[14]\tvalidation_0-rmse:0.32348\n",
      "[15]\tvalidation_0-rmse:0.32094\n",
      "[16]\tvalidation_0-rmse:0.32059\n",
      "[17]\tvalidation_0-rmse:0.31751\n",
      "[18]\tvalidation_0-rmse:0.31523\n",
      "[19]\tvalidation_0-rmse:0.31425\n",
      "[20]\tvalidation_0-rmse:0.31240\n",
      "[21]\tvalidation_0-rmse:0.31189\n",
      "[22]\tvalidation_0-rmse:0.31171\n",
      "[23]\tvalidation_0-rmse:0.31128\n",
      "[24]\tvalidation_0-rmse:0.31108\n",
      "[25]\tvalidation_0-rmse:0.30989\n",
      "[26]\tvalidation_0-rmse:0.30988\n",
      "[27]\tvalidation_0-rmse:0.30987\n",
      "[28]\tvalidation_0-rmse:0.30965\n",
      "[29]\tvalidation_0-rmse:0.30840\n",
      "[30]\tvalidation_0-rmse:0.30769\n",
      "[31]\tvalidation_0-rmse:0.30734\n",
      "[32]\tvalidation_0-rmse:0.30584\n",
      "[33]\tvalidation_0-rmse:0.30499\n",
      "[34]\tvalidation_0-rmse:0.30449\n",
      "[35]\tvalidation_0-rmse:0.30453\n",
      "[36]\tvalidation_0-rmse:0.30425\n",
      "[37]\tvalidation_0-rmse:0.30408\n",
      "[38]\tvalidation_0-rmse:0.30445\n",
      "[39]\tvalidation_0-rmse:0.30379\n",
      "[40]\tvalidation_0-rmse:0.30383\n",
      "[41]\tvalidation_0-rmse:0.30303\n",
      "[42]\tvalidation_0-rmse:0.30300\n",
      "[43]\tvalidation_0-rmse:0.30263\n",
      "[44]\tvalidation_0-rmse:0.30322\n",
      "[45]\tvalidation_0-rmse:0.30334\n",
      "[46]\tvalidation_0-rmse:0.30323\n",
      "[47]\tvalidation_0-rmse:0.30204\n",
      "[48]\tvalidation_0-rmse:0.30203\n",
      "[49]\tvalidation_0-rmse:0.30219\n",
      "[50]\tvalidation_0-rmse:0.30202\n",
      "[51]\tvalidation_0-rmse:0.30261\n",
      "[52]\tvalidation_0-rmse:0.30265\n",
      "[53]\tvalidation_0-rmse:0.30253\n",
      "[54]\tvalidation_0-rmse:0.30238\n",
      "[55]\tvalidation_0-rmse:0.30150\n",
      "[56]\tvalidation_0-rmse:0.30148\n",
      "[57]\tvalidation_0-rmse:0.30168\n",
      "[58]\tvalidation_0-rmse:0.30177\n",
      "[59]\tvalidation_0-rmse:0.30186\n",
      "[60]\tvalidation_0-rmse:0.30154\n",
      "[61]\tvalidation_0-rmse:0.30137\n",
      "[62]\tvalidation_0-rmse:0.30161\n",
      "[63]\tvalidation_0-rmse:0.30145\n",
      "[64]\tvalidation_0-rmse:0.30150\n",
      "[65]\tvalidation_0-rmse:0.30156\n",
      "[66]\tvalidation_0-rmse:0.30270\n",
      "[67]\tvalidation_0-rmse:0.30275\n",
      "[68]\tvalidation_0-rmse:0.30246\n",
      "[69]\tvalidation_0-rmse:0.30248\n",
      "[70]\tvalidation_0-rmse:0.30238\n"
     ]
    }
   ],
   "source": [
    "#boosted regression tree with early stopping\n",
    "bst_early = XGBRegressor(n_estimators=1000, learning_rate=0.4,early_stopping_rounds=10) \n",
    "bst_early = bst_early.fit(X_train, y_train, eval_set=[(X_val, y_val)]) #fit to data- eval set fits for early stopping, where you gve it your validation set"
   ]
  },
  {
   "cell_type": "code",
   "execution_count": 74,
   "id": "a7e02026",
   "metadata": {},
   "outputs": [
    {
     "data": {
      "text/plain": [
       "61"
      ]
     },
     "execution_count": 74,
     "metadata": {},
     "output_type": "execute_result"
    }
   ],
   "source": [
    "#finding optimal number of iterations\n",
    "bst_early.best_iteration"
   ]
  },
  {
   "cell_type": "markdown",
   "id": "9981153e",
   "metadata": {},
   "source": [
    "6- 61 boosting iterations were optimal"
   ]
  }
 ],
 "metadata": {
  "kernelspec": {
   "display_name": "Python 3 (ipykernel)",
   "language": "python",
   "name": "python3"
  },
  "language_info": {
   "codemirror_mode": {
    "name": "ipython",
    "version": 3
   },
   "file_extension": ".py",
   "mimetype": "text/x-python",
   "name": "python",
   "nbconvert_exporter": "python",
   "pygments_lexer": "ipython3",
   "version": "3.11.5"
  }
 },
 "nbformat": 4,
 "nbformat_minor": 5
}
