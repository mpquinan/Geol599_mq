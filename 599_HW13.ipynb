{
 "cells": [
  {
   "cell_type": "code",
   "execution_count": 1,
   "id": "4ca4e8b8",
   "metadata": {},
   "outputs": [],
   "source": [
    "import pandas as pd\n",
    "import numpy as np\n",
    "from matplotlib import pyplot as plt\n",
    "from sklearn import linear_model\n",
    "from sklearn.neural_network import MLPRegressor\n",
    "from sklearn.model_selection import train_test_split\n",
    "from sklearn.metrics import mean_squared_error"
   ]
  },
  {
   "cell_type": "code",
   "execution_count": 2,
   "id": "9bc30d5c",
   "metadata": {},
   "outputs": [
    {
     "data": {
      "text/html": [
       "<div>\n",
       "<style scoped>\n",
       "    .dataframe tbody tr th:only-of-type {\n",
       "        vertical-align: middle;\n",
       "    }\n",
       "\n",
       "    .dataframe tbody tr th {\n",
       "        vertical-align: top;\n",
       "    }\n",
       "\n",
       "    .dataframe thead th {\n",
       "        text-align: right;\n",
       "    }\n",
       "</style>\n",
       "<table border=\"1\" class=\"dataframe\">\n",
       "  <thead>\n",
       "    <tr style=\"text-align: right;\">\n",
       "      <th></th>\n",
       "      <th>YY</th>\n",
       "      <th>MM</th>\n",
       "      <th>DD</th>\n",
       "      <th>hh</th>\n",
       "      <th>mm</th>\n",
       "      <th>WDIR</th>\n",
       "      <th>WSPD</th>\n",
       "      <th>GST</th>\n",
       "      <th>WVHT</th>\n",
       "      <th>DPD</th>\n",
       "      <th>APD</th>\n",
       "      <th>MWD</th>\n",
       "      <th>PRES</th>\n",
       "      <th>ATMP</th>\n",
       "      <th>WTMP</th>\n",
       "      <th>DEWP</th>\n",
       "      <th>VIS</th>\n",
       "      <th>TIDE</th>\n",
       "    </tr>\n",
       "  </thead>\n",
       "  <tbody>\n",
       "    <tr>\n",
       "      <th>count</th>\n",
       "      <td>17285.0</td>\n",
       "      <td>17285.000000</td>\n",
       "      <td>17285.000000</td>\n",
       "      <td>17285.000000</td>\n",
       "      <td>17285.000000</td>\n",
       "      <td>17285.0</td>\n",
       "      <td>17285.0</td>\n",
       "      <td>17285.0</td>\n",
       "      <td>17285.000000</td>\n",
       "      <td>17285.000000</td>\n",
       "      <td>17285.000000</td>\n",
       "      <td>17285.000000</td>\n",
       "      <td>17285.0</td>\n",
       "      <td>17285.0</td>\n",
       "      <td>17285.000000</td>\n",
       "      <td>17285.0</td>\n",
       "      <td>17285.0</td>\n",
       "      <td>17285.0</td>\n",
       "    </tr>\n",
       "    <tr>\n",
       "      <th>mean</th>\n",
       "      <td>2023.0</td>\n",
       "      <td>6.526063</td>\n",
       "      <td>15.800579</td>\n",
       "      <td>11.499277</td>\n",
       "      <td>40.985594</td>\n",
       "      <td>999.0</td>\n",
       "      <td>99.0</td>\n",
       "      <td>99.0</td>\n",
       "      <td>1.083535</td>\n",
       "      <td>12.161879</td>\n",
       "      <td>6.813054</td>\n",
       "      <td>234.556205</td>\n",
       "      <td>9999.0</td>\n",
       "      <td>999.0</td>\n",
       "      <td>17.196535</td>\n",
       "      <td>999.0</td>\n",
       "      <td>99.0</td>\n",
       "      <td>99.0</td>\n",
       "    </tr>\n",
       "    <tr>\n",
       "      <th>std</th>\n",
       "      <td>0.0</td>\n",
       "      <td>3.467253</td>\n",
       "      <td>8.817920</td>\n",
       "      <td>6.925343</td>\n",
       "      <td>15.007646</td>\n",
       "      <td>0.0</td>\n",
       "      <td>0.0</td>\n",
       "      <td>0.0</td>\n",
       "      <td>2.296129</td>\n",
       "      <td>4.165737</td>\n",
       "      <td>2.803208</td>\n",
       "      <td>49.429981</td>\n",
       "      <td>0.0</td>\n",
       "      <td>0.0</td>\n",
       "      <td>2.564664</td>\n",
       "      <td>0.0</td>\n",
       "      <td>0.0</td>\n",
       "      <td>0.0</td>\n",
       "    </tr>\n",
       "    <tr>\n",
       "      <th>min</th>\n",
       "      <td>2023.0</td>\n",
       "      <td>1.000000</td>\n",
       "      <td>1.000000</td>\n",
       "      <td>0.000000</td>\n",
       "      <td>0.000000</td>\n",
       "      <td>999.0</td>\n",
       "      <td>99.0</td>\n",
       "      <td>99.0</td>\n",
       "      <td>0.330000</td>\n",
       "      <td>2.860000</td>\n",
       "      <td>3.420000</td>\n",
       "      <td>10.000000</td>\n",
       "      <td>9999.0</td>\n",
       "      <td>999.0</td>\n",
       "      <td>11.800000</td>\n",
       "      <td>999.0</td>\n",
       "      <td>99.0</td>\n",
       "      <td>99.0</td>\n",
       "    </tr>\n",
       "    <tr>\n",
       "      <th>25%</th>\n",
       "      <td>2023.0</td>\n",
       "      <td>4.000000</td>\n",
       "      <td>8.000000</td>\n",
       "      <td>5.000000</td>\n",
       "      <td>26.000000</td>\n",
       "      <td>999.0</td>\n",
       "      <td>99.0</td>\n",
       "      <td>99.0</td>\n",
       "      <td>0.730000</td>\n",
       "      <td>9.090000</td>\n",
       "      <td>5.500000</td>\n",
       "      <td>179.000000</td>\n",
       "      <td>9999.0</td>\n",
       "      <td>999.0</td>\n",
       "      <td>14.600000</td>\n",
       "      <td>999.0</td>\n",
       "      <td>99.0</td>\n",
       "      <td>99.0</td>\n",
       "    </tr>\n",
       "    <tr>\n",
       "      <th>50%</th>\n",
       "      <td>2023.0</td>\n",
       "      <td>6.000000</td>\n",
       "      <td>16.000000</td>\n",
       "      <td>11.000000</td>\n",
       "      <td>26.000000</td>\n",
       "      <td>999.0</td>\n",
       "      <td>99.0</td>\n",
       "      <td>99.0</td>\n",
       "      <td>0.880000</td>\n",
       "      <td>12.500000</td>\n",
       "      <td>6.360000</td>\n",
       "      <td>263.000000</td>\n",
       "      <td>9999.0</td>\n",
       "      <td>999.0</td>\n",
       "      <td>17.500000</td>\n",
       "      <td>999.0</td>\n",
       "      <td>99.0</td>\n",
       "      <td>99.0</td>\n",
       "    </tr>\n",
       "    <tr>\n",
       "      <th>75%</th>\n",
       "      <td>2023.0</td>\n",
       "      <td>10.000000</td>\n",
       "      <td>23.000000</td>\n",
       "      <td>18.000000</td>\n",
       "      <td>56.000000</td>\n",
       "      <td>999.0</td>\n",
       "      <td>99.0</td>\n",
       "      <td>99.0</td>\n",
       "      <td>1.140000</td>\n",
       "      <td>14.290000</td>\n",
       "      <td>7.550000</td>\n",
       "      <td>271.000000</td>\n",
       "      <td>9999.0</td>\n",
       "      <td>999.0</td>\n",
       "      <td>19.400000</td>\n",
       "      <td>999.0</td>\n",
       "      <td>99.0</td>\n",
       "      <td>99.0</td>\n",
       "    </tr>\n",
       "    <tr>\n",
       "      <th>max</th>\n",
       "      <td>2023.0</td>\n",
       "      <td>12.000000</td>\n",
       "      <td>31.000000</td>\n",
       "      <td>23.000000</td>\n",
       "      <td>56.000000</td>\n",
       "      <td>999.0</td>\n",
       "      <td>99.0</td>\n",
       "      <td>99.0</td>\n",
       "      <td>99.000000</td>\n",
       "      <td>99.000000</td>\n",
       "      <td>99.000000</td>\n",
       "      <td>999.000000</td>\n",
       "      <td>9999.0</td>\n",
       "      <td>999.0</td>\n",
       "      <td>23.900000</td>\n",
       "      <td>999.0</td>\n",
       "      <td>99.0</td>\n",
       "      <td>99.0</td>\n",
       "    </tr>\n",
       "  </tbody>\n",
       "</table>\n",
       "</div>"
      ],
      "text/plain": [
       "            YY            MM            DD            hh            mm  \\\n",
       "count  17285.0  17285.000000  17285.000000  17285.000000  17285.000000   \n",
       "mean    2023.0      6.526063     15.800579     11.499277     40.985594   \n",
       "std        0.0      3.467253      8.817920      6.925343     15.007646   \n",
       "min     2023.0      1.000000      1.000000      0.000000      0.000000   \n",
       "25%     2023.0      4.000000      8.000000      5.000000     26.000000   \n",
       "50%     2023.0      6.000000     16.000000     11.000000     26.000000   \n",
       "75%     2023.0     10.000000     23.000000     18.000000     56.000000   \n",
       "max     2023.0     12.000000     31.000000     23.000000     56.000000   \n",
       "\n",
       "          WDIR     WSPD      GST          WVHT           DPD           APD  \\\n",
       "count  17285.0  17285.0  17285.0  17285.000000  17285.000000  17285.000000   \n",
       "mean     999.0     99.0     99.0      1.083535     12.161879      6.813054   \n",
       "std        0.0      0.0      0.0      2.296129      4.165737      2.803208   \n",
       "min      999.0     99.0     99.0      0.330000      2.860000      3.420000   \n",
       "25%      999.0     99.0     99.0      0.730000      9.090000      5.500000   \n",
       "50%      999.0     99.0     99.0      0.880000     12.500000      6.360000   \n",
       "75%      999.0     99.0     99.0      1.140000     14.290000      7.550000   \n",
       "max      999.0     99.0     99.0     99.000000     99.000000     99.000000   \n",
       "\n",
       "                MWD     PRES     ATMP          WTMP     DEWP      VIS     TIDE  \n",
       "count  17285.000000  17285.0  17285.0  17285.000000  17285.0  17285.0  17285.0  \n",
       "mean     234.556205   9999.0    999.0     17.196535    999.0     99.0     99.0  \n",
       "std       49.429981      0.0      0.0      2.564664      0.0      0.0      0.0  \n",
       "min       10.000000   9999.0    999.0     11.800000    999.0     99.0     99.0  \n",
       "25%      179.000000   9999.0    999.0     14.600000    999.0     99.0     99.0  \n",
       "50%      263.000000   9999.0    999.0     17.500000    999.0     99.0     99.0  \n",
       "75%      271.000000   9999.0    999.0     19.400000    999.0     99.0     99.0  \n",
       "max      999.000000   9999.0    999.0     23.900000    999.0     99.0     99.0  "
      ]
     },
     "execution_count": 2,
     "metadata": {},
     "output_type": "execute_result"
    }
   ],
   "source": [
    "buoy = pd.read_csv(\"/Users/matthewq/Geol_599/week9/Waves_2023.txt\", sep='\\s+') \n",
    "buoy.describe()"
   ]
  },
  {
   "cell_type": "code",
   "execution_count": 3,
   "id": "abbfb134",
   "metadata": {},
   "outputs": [
    {
     "data": {
      "text/html": [
       "<div>\n",
       "<style scoped>\n",
       "    .dataframe tbody tr th:only-of-type {\n",
       "        vertical-align: middle;\n",
       "    }\n",
       "\n",
       "    .dataframe tbody tr th {\n",
       "        vertical-align: top;\n",
       "    }\n",
       "\n",
       "    .dataframe thead th {\n",
       "        text-align: right;\n",
       "    }\n",
       "</style>\n",
       "<table border=\"1\" class=\"dataframe\">\n",
       "  <thead>\n",
       "    <tr style=\"text-align: right;\">\n",
       "      <th></th>\n",
       "      <th>WVHT</th>\n",
       "      <th>DPD</th>\n",
       "      <th>APD</th>\n",
       "      <th>MWD</th>\n",
       "      <th>WTMP</th>\n",
       "    </tr>\n",
       "  </thead>\n",
       "  <tbody>\n",
       "    <tr>\n",
       "      <th>count</th>\n",
       "      <td>17276.000000</td>\n",
       "      <td>17276.000000</td>\n",
       "      <td>17276.000000</td>\n",
       "      <td>17276.000000</td>\n",
       "      <td>17276.000000</td>\n",
       "    </tr>\n",
       "    <tr>\n",
       "      <th>mean</th>\n",
       "      <td>1.032525</td>\n",
       "      <td>12.116640</td>\n",
       "      <td>6.765029</td>\n",
       "      <td>234.157965</td>\n",
       "      <td>17.195294</td>\n",
       "    </tr>\n",
       "    <tr>\n",
       "      <th>std</th>\n",
       "      <td>0.526637</td>\n",
       "      <td>3.664928</td>\n",
       "      <td>1.852623</td>\n",
       "      <td>46.260000</td>\n",
       "      <td>2.564729</td>\n",
       "    </tr>\n",
       "    <tr>\n",
       "      <th>min</th>\n",
       "      <td>0.330000</td>\n",
       "      <td>2.860000</td>\n",
       "      <td>3.420000</td>\n",
       "      <td>10.000000</td>\n",
       "      <td>11.800000</td>\n",
       "    </tr>\n",
       "    <tr>\n",
       "      <th>25%</th>\n",
       "      <td>0.730000</td>\n",
       "      <td>9.090000</td>\n",
       "      <td>5.500000</td>\n",
       "      <td>179.000000</td>\n",
       "      <td>14.600000</td>\n",
       "    </tr>\n",
       "    <tr>\n",
       "      <th>50%</th>\n",
       "      <td>0.880000</td>\n",
       "      <td>12.500000</td>\n",
       "      <td>6.360000</td>\n",
       "      <td>263.000000</td>\n",
       "      <td>17.500000</td>\n",
       "    </tr>\n",
       "    <tr>\n",
       "      <th>75%</th>\n",
       "      <td>1.140000</td>\n",
       "      <td>14.290000</td>\n",
       "      <td>7.550000</td>\n",
       "      <td>271.000000</td>\n",
       "      <td>19.400000</td>\n",
       "    </tr>\n",
       "    <tr>\n",
       "      <th>max</th>\n",
       "      <td>5.130000</td>\n",
       "      <td>25.000000</td>\n",
       "      <td>15.790000</td>\n",
       "      <td>306.000000</td>\n",
       "      <td>23.900000</td>\n",
       "    </tr>\n",
       "  </tbody>\n",
       "</table>\n",
       "</div>"
      ],
      "text/plain": [
       "               WVHT           DPD           APD           MWD          WTMP\n",
       "count  17276.000000  17276.000000  17276.000000  17276.000000  17276.000000\n",
       "mean       1.032525     12.116640      6.765029    234.157965     17.195294\n",
       "std        0.526637      3.664928      1.852623     46.260000      2.564729\n",
       "min        0.330000      2.860000      3.420000     10.000000     11.800000\n",
       "25%        0.730000      9.090000      5.500000    179.000000     14.600000\n",
       "50%        0.880000     12.500000      6.360000    263.000000     17.500000\n",
       "75%        1.140000     14.290000      7.550000    271.000000     19.400000\n",
       "max        5.130000     25.000000     15.790000    306.000000     23.900000"
      ]
     },
     "execution_count": 3,
     "metadata": {},
     "output_type": "execute_result"
    }
   ],
   "source": [
    "buoy_use = buoy[['WVHT', 'DPD', 'APD', 'MWD', 'WTMP']].copy()\n",
    "buoy_use_na = buoy_use.replace(99,np.NaN) #convert any 99 values to NaN\n",
    "buoy_use_na = buoy_use_na.replace(999,np.NaN) #convert any 999 values to NaN\n",
    "buoy_use_nona = buoy_use_na.dropna() #drop any NaN values, which now contains 99 and 999 values\n",
    "buoy_use_nona.describe()"
   ]
  },
  {
   "cell_type": "code",
   "execution_count": 4,
   "id": "f78c4a9f",
   "metadata": {},
   "outputs": [],
   "source": [
    "X = buoy_use[[\"DPD\", \"APD\", \"MWD\", 'WTMP']].to_numpy()\n",
    "y = buoy_use['WVHT']\n",
    "\n",
    "\n",
    "#Splitting data set - test = 10% of data set\n",
    "X_train, X_test, y_train, y_test = train_test_split(X, y, test_size=0.1)\n",
    "\n",
    "#splitting training data set further to get validation set (15% of whole data set) leaving training set 75% of whole data set\n",
    "X_train, X_val, y_train, y_val = train_test_split(X_train, y_train, test_size=0.17)"
   ]
  },
  {
   "cell_type": "code",
   "execution_count": 5,
   "id": "be0604ae",
   "metadata": {},
   "outputs": [],
   "source": [
    "nreg = MLPRegressor(hidden_layer_sizes=(16,16,16)).fit(X_train, y_train)"
   ]
  },
  {
   "cell_type": "code",
   "execution_count": 6,
   "id": "6b29352f",
   "metadata": {},
   "outputs": [
    {
     "name": "stdout",
     "output_type": "stream",
     "text": [
      "0.2027282542325785 0.1854118097208641\n"
     ]
    }
   ],
   "source": [
    "nreg_ypred_test = nreg.predict(X_test)\n",
    "nreg_ypred_train = nreg.predict(X_train)\n",
    "\n",
    "nreg_mse_test = mean_squared_error(nreg_ypred_test, y_test)\n",
    "nreg_mse_train = mean_squared_error(nreg_ypred_train, y_train)\n",
    "\n",
    "print(nreg_mse_train, nreg_mse_test)"
   ]
  },
  {
   "cell_type": "code",
   "execution_count": 7,
   "id": "8327c280",
   "metadata": {},
   "outputs": [
    {
     "name": "stdout",
     "output_type": "stream",
     "text": [
      "1.9219447324076286 1.305445604474636\n"
     ]
    }
   ],
   "source": [
    "reg = linear_model.LinearRegression()\n",
    "reg.fit(X_train, y_train)\n",
    "\n",
    "reg_ypred_test = reg.predict(X_test)\n",
    "reg_ypred_train = reg.predict(X_train)\n",
    "\n",
    "reg_mse_train = mean_squared_error(reg_ypred_train, y_train)\n",
    "reg_mse_test = mean_squared_error(reg_ypred_test, y_test)\n",
    "\n",
    "print(reg_mse_train, reg_mse_test)"
   ]
  },
  {
   "cell_type": "markdown",
   "id": "49746e52",
   "metadata": {},
   "source": [
    "1- \n",
    "\n",
    "When compared to a baseline linear regression model, the MLPRegressor model works better as the mean squared error is close to an order of magnitude lower.\n",
    "\n",
    "2- \n",
    "\n",
    "MLPRegressor optimizes the squared error using LBFGS or stochastic gradient descent. The default cost function ('adam') is a stochastic gradient-based optimizer proposed by Kingma, Diederik, and Jimmy Ba "
   ]
  },
  {
   "cell_type": "code",
   "execution_count": 8,
   "id": "9af1526f",
   "metadata": {},
   "outputs": [
    {
     "name": "stderr",
     "output_type": "stream",
     "text": [
      "/Users/matthewq/anaconda3/lib/python3.11/site-packages/sklearn/neural_network/_multilayer_perceptron.py:691: ConvergenceWarning: Stochastic Optimizer: Maximum iterations (200) reached and the optimization hasn't converged yet.\n",
      "  warnings.warn(\n"
     ]
    }
   ],
   "source": [
    "#different neural network architectures\n",
    "nreg1 = MLPRegressor(hidden_layer_sizes=(1,)).fit(X_train, y_train)\n",
    "nreg2 = MLPRegressor(hidden_layer_sizes=(16,)).fit(X_train, y_train)\n",
    "nreg3 = MLPRegressor(hidden_layer_sizes=(1, 16,)).fit(X_train, y_train)\n",
    "nreg4 = MLPRegressor(hidden_layer_sizes=(16, 16,)).fit(X_train, y_train)\n",
    "nreg5 = MLPRegressor(hidden_layer_sizes=(16, 4, 16,)).fit(X_train, y_train)\n",
    "nreg6 = MLPRegressor(hidden_layer_sizes=(16, 16, 16,)).fit(X_train, y_train)\n",
    "nreg7 = MLPRegressor(hidden_layer_sizes=(16, 16, 16, 16,)).fit(X_train, y_train)\n",
    "nreg8 = MLPRegressor(hidden_layer_sizes=(16, 32, 64, 128,)).fit(X_train, y_train)\n",
    "nreg9 = MLPRegressor(hidden_layer_sizes=(1, 1, 1, 1,)).fit(X_train, y_train)\n",
    "nreg10 = MLPRegressor(hidden_layer_sizes=(100, 100, 100, 100,)).fit(X_train, y_train)"
   ]
  },
  {
   "cell_type": "code",
   "execution_count": 9,
   "id": "d0d2a4f8",
   "metadata": {},
   "outputs": [
    {
     "name": "stdout",
     "output_type": "stream",
     "text": [
      "0.24032346191365375 0.23350166685897092\n"
     ]
    }
   ],
   "source": [
    "nreg1_ypred_test = nreg1.predict(X_test)\n",
    "nreg1_ypred_train = nreg1.predict(X_train)\n",
    "\n",
    "nreg1_mse_train = mean_squared_error(nreg1_ypred_train, y_train)\n",
    "nreg1_mse_test = mean_squared_error( nreg1_ypred_test, y_test)\n",
    "\n",
    "print(nreg1_mse_train, nreg1_mse_test)"
   ]
  },
  {
   "cell_type": "code",
   "execution_count": 10,
   "id": "f072d46c",
   "metadata": {},
   "outputs": [
    {
     "name": "stdout",
     "output_type": "stream",
     "text": [
      "0.1911908775801144 0.18302634236881962\n"
     ]
    }
   ],
   "source": [
    "nreg2_ypred_test = nreg2.predict(X_test)\n",
    "nreg2_ypred_train = nreg2.predict(X_train)\n",
    "\n",
    "nreg2_mse_train = mean_squared_error(nreg2_ypred_train, y_train)\n",
    "nreg2_mse_test = mean_squared_error(nreg2_ypred_test, y_test)\n",
    "\n",
    "print(nreg2_mse_train, nreg2_mse_test)"
   ]
  },
  {
   "cell_type": "code",
   "execution_count": 11,
   "id": "6bc4848a",
   "metadata": {},
   "outputs": [
    {
     "name": "stdout",
     "output_type": "stream",
     "text": [
      "0.21461304612798118 0.20421193540368116\n"
     ]
    }
   ],
   "source": [
    "nreg3_ypred_test = nreg3.predict(X_test)\n",
    "nreg3_ypred_train = nreg3.predict(X_train)\n",
    "\n",
    "nreg3_mse_train = mean_squared_error(nreg3_ypred_train, y_train)\n",
    "nreg3_mse_test = mean_squared_error(nreg3_ypred_test, y_test)\n",
    "\n",
    "print(nreg3_mse_train, nreg3_mse_test)"
   ]
  },
  {
   "cell_type": "code",
   "execution_count": 12,
   "id": "b77e9671",
   "metadata": {},
   "outputs": [
    {
     "name": "stdout",
     "output_type": "stream",
     "text": [
      "0.20787244728533188 0.21164902571998695\n"
     ]
    }
   ],
   "source": [
    "nreg4_ypred_test = nreg4.predict(X_test)\n",
    "nreg4_ypred_train = nreg4.predict(X_train)\n",
    "\n",
    "nreg4_mse_test = mean_squared_error(nreg4_ypred_test, y_test)\n",
    "nreg4_mse_train = mean_squared_error(nreg4_ypred_train, y_train)\n",
    "\n",
    "print(nreg4_mse_train, nreg4_mse_test)"
   ]
  },
  {
   "cell_type": "code",
   "execution_count": 13,
   "id": "9647c115",
   "metadata": {},
   "outputs": [
    {
     "name": "stdout",
     "output_type": "stream",
     "text": [
      "6.220340760445386 0.28312433011354704\n"
     ]
    }
   ],
   "source": [
    "nreg5_ypred_test = nreg5.predict(X_test)\n",
    "nreg5_ypred_train = nreg5.predict(X_train)\n",
    "\n",
    "nreg5_mse_test = mean_squared_error(nreg5_ypred_test, y_test)\n",
    "nreg5_mse_train = mean_squared_error(nreg5_ypred_train, y_train)\n",
    "\n",
    "print(nreg5_mse_train, nreg5_mse_test)"
   ]
  },
  {
   "cell_type": "code",
   "execution_count": 14,
   "id": "49c230e6",
   "metadata": {},
   "outputs": [
    {
     "name": "stdout",
     "output_type": "stream",
     "text": [
      "0.19089163410676774 0.18029171784282702\n"
     ]
    }
   ],
   "source": [
    "nreg6_ypred_test = nreg6.predict(X_test)\n",
    "nreg6_ypred_train = nreg6.predict(X_train)\n",
    "\n",
    "nreg6_mse_test = mean_squared_error(nreg6_ypred_test, y_test)\n",
    "nreg6_mse_train = mean_squared_error(nreg6_ypred_train, y_train)\n",
    "\n",
    "print(nreg6_mse_train, nreg6_mse_test)"
   ]
  },
  {
   "cell_type": "code",
   "execution_count": 15,
   "id": "e0691aa9",
   "metadata": {},
   "outputs": [
    {
     "name": "stdout",
     "output_type": "stream",
     "text": [
      "0.20835464980929924 0.19348918265759069\n"
     ]
    }
   ],
   "source": [
    "nreg7_ypred_test = nreg7.predict(X_test)\n",
    "nreg7_ypred_train = nreg7.predict(X_train)\n",
    "\n",
    "nreg7_mse_test = mean_squared_error(nreg7_ypred_test, y_test)\n",
    "nreg7_mse_train = mean_squared_error(nreg7_ypred_train, y_train)\n",
    "\n",
    "print(nreg7_mse_train, nreg7_mse_test)"
   ]
  },
  {
   "cell_type": "code",
   "execution_count": 16,
   "id": "411510b7",
   "metadata": {},
   "outputs": [
    {
     "name": "stdout",
     "output_type": "stream",
     "text": [
      "0.20525675046747063 0.18835291657143238\n"
     ]
    }
   ],
   "source": [
    "nreg8_ypred_test = nreg8.predict(X_test)\n",
    "nreg8_ypred_train = nreg8.predict(X_train)\n",
    "\n",
    "nreg8_mse_test = mean_squared_error(nreg8_ypred_test, y_test)\n",
    "nreg8_mse_train = mean_squared_error(nreg8_ypred_train, y_train)\n",
    "\n",
    "print(nreg8_mse_train, nreg8_mse_test)"
   ]
  },
  {
   "cell_type": "code",
   "execution_count": 17,
   "id": "a5b43f91",
   "metadata": {},
   "outputs": [
    {
     "name": "stdout",
     "output_type": "stream",
     "text": [
      "6.220309856431839 0.28437739068840695\n"
     ]
    }
   ],
   "source": [
    "nreg9_ypred_test = nreg9.predict(X_test)\n",
    "nreg9_ypred_train = nreg9.predict(X_train)\n",
    "\n",
    "nreg9_mse_train = mean_squared_error(nreg9_ypred_train, y_train)\n",
    "nreg9_mse_test = mean_squared_error(nreg9_ypred_test, y_test)\n",
    "\n",
    "print(nreg9_mse_train, nreg9_mse_test)"
   ]
  },
  {
   "cell_type": "code",
   "execution_count": 18,
   "id": "5e6bc759",
   "metadata": {},
   "outputs": [
    {
     "name": "stdout",
     "output_type": "stream",
     "text": [
      "0.19206964833476906 0.17971015982255217\n"
     ]
    }
   ],
   "source": [
    "nreg10_ypred_test = nreg10.predict(X_test)\n",
    "nreg10_ypred_train = nreg10.predict(X_train)\n",
    "\n",
    "nreg10_mse_test = mean_squared_error(nreg10_ypred_test, y_test)\n",
    "nreg10_mse_train = mean_squared_error(nreg10_ypred_train, y_train)\n",
    "\n",
    "print(nreg10_mse_train, nreg10_mse_test)"
   ]
  },
  {
   "cell_type": "code",
   "execution_count": 19,
   "id": "2e73098a",
   "metadata": {},
   "outputs": [],
   "source": [
    "error = pd.DataFrame(columns=['Layers', 'Nodes', 'Train MSE', 'Test MSE'])"
   ]
  },
  {
   "cell_type": "code",
   "execution_count": 20,
   "id": "ee58c498",
   "metadata": {},
   "outputs": [],
   "source": [
    "row1 = ['1', '1', nreg1_mse_train, nreg1_mse_test]\n",
    "row2 = ['1', '16', nreg2_mse_train, nreg2_mse_test]\n",
    "row3 = ['2', '[1, 16]', nreg3_mse_train, nreg3_mse_test]\n",
    "row4 = ['2', '[16, 16]', nreg4_mse_train, nreg4_mse_test]\n",
    "row5 = ['3', '[16, 4, 16]', nreg5_mse_train, nreg5_mse_test]\n",
    "row6 = ['3', '[16, 16, 16]', nreg6_mse_train, nreg6_mse_test]\n",
    "row7 = ['4', '[16, 16, 16, 16]', nreg7_mse_train, nreg7_mse_test]\n",
    "row8 = ['4', '[16, 32, 64, 128]', nreg8_mse_train, nreg8_mse_test]\n",
    "row9 = ['5', '[1, 1, 1, 1, 1]', nreg9_mse_train, nreg9_mse_test]\n",
    "row10 = ['5', '[100, 100, 100, 100, 100]', nreg10_mse_train, nreg10_mse_test]"
   ]
  },
  {
   "cell_type": "code",
   "execution_count": 21,
   "id": "e4237e73",
   "metadata": {},
   "outputs": [],
   "source": [
    "error.loc[len(error)] = row1"
   ]
  },
  {
   "cell_type": "code",
   "execution_count": 22,
   "id": "11240a74",
   "metadata": {},
   "outputs": [],
   "source": [
    "error.loc[len(error)] = row2"
   ]
  },
  {
   "cell_type": "code",
   "execution_count": 23,
   "id": "b4cdc2bd",
   "metadata": {},
   "outputs": [],
   "source": [
    "error.loc[len(error)] = row3"
   ]
  },
  {
   "cell_type": "code",
   "execution_count": 24,
   "id": "f9fffa30",
   "metadata": {},
   "outputs": [],
   "source": [
    "error.loc[len(error)] = row4"
   ]
  },
  {
   "cell_type": "code",
   "execution_count": 25,
   "id": "f38e9dc2",
   "metadata": {},
   "outputs": [],
   "source": [
    "error.loc[len(error)] = row5"
   ]
  },
  {
   "cell_type": "code",
   "execution_count": 26,
   "id": "c14fd8e8",
   "metadata": {},
   "outputs": [],
   "source": [
    "error.loc[len(error)] = row6"
   ]
  },
  {
   "cell_type": "code",
   "execution_count": 27,
   "id": "14ce2026",
   "metadata": {},
   "outputs": [],
   "source": [
    "error.loc[len(error)] = row7"
   ]
  },
  {
   "cell_type": "code",
   "execution_count": 28,
   "id": "bf0ac6e8",
   "metadata": {},
   "outputs": [],
   "source": [
    "error.loc[len(error)] = row8"
   ]
  },
  {
   "cell_type": "code",
   "execution_count": 29,
   "id": "869abbdd",
   "metadata": {},
   "outputs": [],
   "source": [
    "error.loc[len(error)] = row9"
   ]
  },
  {
   "cell_type": "code",
   "execution_count": 30,
   "id": "35796237",
   "metadata": {},
   "outputs": [],
   "source": [
    "error.loc[len(error)] = row10"
   ]
  },
  {
   "cell_type": "code",
   "execution_count": 31,
   "id": "d65ac3cf",
   "metadata": {},
   "outputs": [
    {
     "name": "stdout",
     "output_type": "stream",
     "text": [
      "  Layers                      Nodes  Train MSE  Test MSE\n",
      "0      1                          1   0.240323  0.233502\n",
      "1      1                         16   0.191191  0.183026\n",
      "2      2                    [1, 16]   0.214613  0.204212\n",
      "3      2                   [16, 16]   0.207872  0.211649\n",
      "4      3                [16, 4, 16]   6.220341  0.283124\n",
      "5      3               [16, 16, 16]   0.190892  0.180292\n",
      "6      4           [16, 16, 16, 16]   0.208355  0.193489\n",
      "7      4          [16, 32, 64, 128]   0.205257  0.188353\n",
      "8      5            [1, 1, 1, 1, 1]   6.220310  0.284377\n",
      "9      5  [100, 100, 100, 100, 100]   0.192070  0.179710\n"
     ]
    }
   ],
   "source": [
    "#3- \n",
    "print(error)\n",
    "#all the training errors are higher than the test errors. Seems a bit odd"
   ]
  },
  {
   "cell_type": "markdown",
   "id": "8ecf82fa",
   "metadata": {},
   "source": [
    "4- \n",
    "Overall id doesnt really seem like changing the number of hidden layers and nodes has had a significant effect on the performance of the model. There are two training errors that are really high relative to the rest ([16,4,6] and [1,1,1,1]). I dont really understand what is causing this."
   ]
  },
  {
   "cell_type": "code",
   "execution_count": 35,
   "id": "215d7361",
   "metadata": {},
   "outputs": [
    {
     "name": "stdout",
     "output_type": "stream",
     "text": [
      "3.1274462208772795 2.006133032437981\n"
     ]
    }
   ],
   "source": [
    "nreg_id = MLPRegressor(hidden_layer_sizes=(100,100,100,100), activation = 'identity', max_iter=300).fit(X_train, y_train)\n",
    "\n",
    "nreg_id_ypred_test = nreg_id.predict(X_test)\n",
    "nreg_id_ypred_train = nreg_id.predict(X_train)\n",
    "\n",
    "nreg_id_mse_test = mean_squared_error(nreg_id_ypred_test, y_test)\n",
    "nreg_id_mse_train = mean_squared_error(nreg_id_ypred_train, y_train)\n",
    "\n",
    "print(nreg_id_mse_train, nreg_id_mse_test)"
   ]
  },
  {
   "cell_type": "code",
   "execution_count": 34,
   "id": "98ac29f7",
   "metadata": {},
   "outputs": [
    {
     "name": "stdout",
     "output_type": "stream",
     "text": [
      "1.9423958994454145 1.280563611690215\n"
     ]
    }
   ],
   "source": [
    "nreg_id = MLPRegressor(hidden_layer_sizes=(1,1,1,1), activation = 'identity', max_iter=300).fit(X_train, y_train)\n",
    "\n",
    "nreg_id_ypred_test = nreg_id.predict(X_test)\n",
    "nreg_id_ypred_train = nreg_id.predict(X_train)\n",
    "\n",
    "nreg_id_mse_test = mean_squared_error(nreg_id_ypred_test, y_test)\n",
    "nreg_id_mse_train = mean_squared_error(nreg_id_ypred_train, y_train)\n",
    "\n",
    "print(nreg_id_mse_train, nreg_id_mse_test)"
   ]
  },
  {
   "cell_type": "code",
   "execution_count": 36,
   "id": "7f5c792b",
   "metadata": {},
   "outputs": [
    {
     "name": "stdout",
     "output_type": "stream",
     "text": [
      "0.18158743490003743 0.16555865830589842\n"
     ]
    }
   ],
   "source": [
    "nreg_log = MLPRegressor(hidden_layer_sizes=(100,100,100,100), activation = 'logistic').fit(X_train, y_train)\n",
    "\n",
    "nreg_log_ypred_test = nreg_log.predict(X_test)\n",
    "nreg_log_ypred_train = nreg_log.predict(X_train)\n",
    "\n",
    "nreg_log_mse_test = mean_squared_error(nreg_log_ypred_test, y_test)\n",
    "nreg_log_mse_train = mean_squared_error(nreg_log_ypred_train, y_train)\n",
    "\n",
    "print(nreg_log_mse_train, nreg_log_mse_test)"
   ]
  },
  {
   "cell_type": "code",
   "execution_count": 37,
   "id": "88405591",
   "metadata": {},
   "outputs": [
    {
     "name": "stdout",
     "output_type": "stream",
     "text": [
      "6.220303318162661 0.28409845640770365\n"
     ]
    }
   ],
   "source": [
    "nreg_log = MLPRegressor(hidden_layer_sizes=(1,1,1,1), activation = 'logistic').fit(X_train, y_train)\n",
    "\n",
    "nreg_log_ypred_test = nreg_log.predict(X_test)\n",
    "nreg_log_ypred_train = nreg_log.predict(X_train)\n",
    "\n",
    "nreg_log_mse_test = mean_squared_error(nreg_log_ypred_test, y_test)\n",
    "nreg_log_mse_train = mean_squared_error(nreg_log_ypred_train, y_train)\n",
    "\n",
    "print(nreg_log_mse_train, nreg_log_mse_test)"
   ]
  },
  {
   "cell_type": "code",
   "execution_count": 38,
   "id": "de69e534",
   "metadata": {},
   "outputs": [
    {
     "name": "stdout",
     "output_type": "stream",
     "text": [
      "6.2295075723692355 0.28092100574625506\n"
     ]
    }
   ],
   "source": [
    "nreg_tanh = MLPRegressor(hidden_layer_sizes=(100,100,100,100), activation = 'tanh').fit(X_train, y_train)\n",
    "\n",
    "nreg_tanh_ypred_test = nreg_tanh.predict(X_test)\n",
    "nreg_tanh_ypred_train = nreg_tanh.predict(X_train)\n",
    "\n",
    "nreg_tanh_mse_test = mean_squared_error(nreg_tanh_ypred_test, y_test)\n",
    "nreg_tanh_mse_train = mean_squared_error(nreg_tanh_ypred_train, y_train)\n",
    "\n",
    "print(nreg_tanh_mse_train, nreg_tanh_mse_test)"
   ]
  },
  {
   "cell_type": "code",
   "execution_count": 39,
   "id": "87517cce",
   "metadata": {},
   "outputs": [
    {
     "name": "stdout",
     "output_type": "stream",
     "text": [
      "6.220309735557572 0.28437420030626187\n"
     ]
    }
   ],
   "source": [
    "nreg_tanh = MLPRegressor(hidden_layer_sizes=(1,1,1,1), activation = 'tanh').fit(X_train, y_train)\n",
    "\n",
    "nreg_tanh_ypred_test = nreg_tanh.predict(X_test)\n",
    "nreg_tanh_ypred_train = nreg_tanh.predict(X_train)\n",
    "\n",
    "nreg_tanh_mse_test = mean_squared_error(nreg_tanh_ypred_test, y_test)\n",
    "nreg_tanh_mse_train = mean_squared_error(nreg_tanh_ypred_train, y_train)\n",
    "\n",
    "print(nreg_tanh_mse_train, nreg_tanh_mse_test)"
   ]
  },
  {
   "cell_type": "markdown",
   "id": "2da797ab",
   "metadata": {},
   "source": [
    "5- \n",
    "\n",
    "Changing the activation function from the default ('relu') to identity does have a big effect on the performance of the neural network model. For the 4 hidden layers of 100 nodes, the test and train MSE are significantly worse using an identity activation function. \n",
    "\n",
    "Changing to a logistic activation function has little effect. \n",
    "\n",
    "Changing to a tanh activation funciton did not affect the 1,1,1,1 neural network but did worsen the performance of the 100,100,100,100 network model."
   ]
  },
  {
   "cell_type": "code",
   "execution_count": null,
   "id": "55541303",
   "metadata": {},
   "outputs": [],
   "source": []
  }
 ],
 "metadata": {
  "kernelspec": {
   "display_name": "Python 3 (ipykernel)",
   "language": "python",
   "name": "python3"
  },
  "language_info": {
   "codemirror_mode": {
    "name": "ipython",
    "version": 3
   },
   "file_extension": ".py",
   "mimetype": "text/x-python",
   "name": "python",
   "nbconvert_exporter": "python",
   "pygments_lexer": "ipython3",
   "version": "3.11.5"
  }
 },
 "nbformat": 4,
 "nbformat_minor": 5
}
