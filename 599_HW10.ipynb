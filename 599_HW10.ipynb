{
 "cells": [
  {
   "cell_type": "code",
   "execution_count": 154,
   "id": "963cae37",
   "metadata": {},
   "outputs": [],
   "source": [
    "import pandas as pd\n",
    "import numpy as np\n",
    "from matplotlib import pyplot as plt\n",
    "import seaborn as sns \n",
    "from sklearn import linear_model\n",
    "from sklearn.linear_model import RidgeClassifier\n",
    "from xgboost import XGBRegressor\n",
    "from sklearn import tree\n",
    "from sklearn.tree import DecisionTreeRegressor"
   ]
  },
  {
   "cell_type": "code",
   "execution_count": 170,
   "id": "f341df49",
   "metadata": {},
   "outputs": [],
   "source": [
    "AQS = \"/Users/matthewq/Geol_599/week7/LA_AQS_2023.csv\" \n",
    "df = pd.read_csv(AQS) "
   ]
  },
  {
   "cell_type": "code",
   "execution_count": 171,
   "id": "00e24eae",
   "metadata": {},
   "outputs": [],
   "source": [
    "# Create an \"ozone only\" data frame\n",
    "df_O3 = df[(df['Parameter Name']=='Ozone') & (df['Duration Description']=='1 HOUR')]\n",
    "df_O3.head()\n",
    "o3V = df_O3[\"Arithmetic Mean\"]\n",
    "df_O3 = pd.DataFrame(data = {\"O3\" : o3V, 'date' : df_O3[\"Date (Local)\"]})"
   ]
  },
  {
   "cell_type": "code",
   "execution_count": 172,
   "id": "1afb2c35",
   "metadata": {},
   "outputs": [],
   "source": [
    "#create no2 only data set\n",
    "df_NO2 = df[(df['Parameter Name']=='Nitrogen dioxide (NO2)') & (df['Duration Description']=='1 HOUR')]\n",
    "df_NO2.head()\n",
    "no2V = df_NO2[\"Arithmetic Mean\"]\n",
    "df_NO2 = pd.DataFrame(data = {\"NO2\" : no2V, 'date' : df_NO2[\"Date (Local)\"]})"
   ]
  },
  {
   "cell_type": "code",
   "execution_count": 173,
   "id": "0e1f1b8c",
   "metadata": {},
   "outputs": [],
   "source": [
    "#create pm2.5 only data set\n",
    "df_PM25 = df[(df['Parameter Name']=='PM2.5 - Local Conditions') & (df['Duration Description']=='1 HOUR')]\n",
    "df_PM25.head()\n",
    "pm25V = df_PM25[\"Arithmetic Mean\"]\n",
    "df_PM25 = pd.DataFrame(data = {\"PM\" : pm25V, 'date' : df_PM25[\"Date (Local)\"]})"
   ]
  },
  {
   "cell_type": "code",
   "execution_count": 176,
   "id": "0660f239",
   "metadata": {},
   "outputs": [],
   "source": [
    "oz_n = df_NO2.merge(df_O3, on=['date'])\n",
    "oz_n_pm = df_PM25.merge(oz_n, on=['date'])"
   ]
  },
  {
   "cell_type": "code",
   "execution_count": 175,
   "id": "f68308dc",
   "metadata": {},
   "outputs": [],
   "source": [
    "#1- determining summer months\n",
    "#use .values to get array of 1 through 9 for each month\n",
    "Months = pd.DatetimeIndex(oz_n_pm['date']).month.values"
   ]
  },
  {
   "cell_type": "code",
   "execution_count": null,
   "id": "6ca363fd",
   "metadata": {},
   "outputs": [],
   "source": [
    "#encoding summer as 1, winter as 0, neither as -1\n",
    "#creates empty array \n",
    "sIdx = Months - Months #Set values (including winter) to zero\n",
    "sIdx[Months == 12] = 0 #Set winter to 0\n",
    "sIdx[Months == 1] = 0\n",
    "sIdx[Months == 2] = 0\n",
    "\n",
    "sIdx[Months == 6] = 1 #Set summer to 1\n",
    "sIdx[Months == 7] = 1\n",
    "sIdx[Months == 8] = 1\n",
    "\n",
    "sIdx[Months == 3] = -1 #Set spring to -1\n",
    "sIdx[Months == 4] = -1\n",
    "sIdx[Months == 5] = -1\n",
    "\n",
    "sIdx[Months == 9] = -1 #Set fall to -1\n",
    "sIdx[Months == 10] = -1\n",
    "sIdx[Months == 11] = -1"
   ]
  },
  {
   "cell_type": "code",
   "execution_count": 177,
   "id": "8be3279e",
   "metadata": {},
   "outputs": [],
   "source": [
    "oz_n_pm['season'] = sIdx"
   ]
  },
  {
   "cell_type": "code",
   "execution_count": 178,
   "id": "df817209",
   "metadata": {},
   "outputs": [],
   "source": [
    "oz_n_pm = oz_n_pm[oz_n_pm['season'] > -1]"
   ]
  },
  {
   "cell_type": "code",
   "execution_count": 63,
   "id": "4f2d4370",
   "metadata": {},
   "outputs": [],
   "source": [
    "X = oz_n_pm[[\"NO2\", \"PM\", \"O3\"]].to_numpy()\n",
    "y = oz_n_pm[\"season\"]"
   ]
  },
  {
   "cell_type": "code",
   "execution_count": 135,
   "id": "8171d710",
   "metadata": {},
   "outputs": [
    {
     "data": {
      "text/html": [
       "<div>\n",
       "<style scoped>\n",
       "    .dataframe tbody tr th:only-of-type {\n",
       "        vertical-align: middle;\n",
       "    }\n",
       "\n",
       "    .dataframe tbody tr th {\n",
       "        vertical-align: top;\n",
       "    }\n",
       "\n",
       "    .dataframe thead th {\n",
       "        text-align: right;\n",
       "    }\n",
       "</style>\n",
       "<table border=\"1\" class=\"dataframe\">\n",
       "  <thead>\n",
       "    <tr style=\"text-align: right;\">\n",
       "      <th></th>\n",
       "      <th>feature</th>\n",
       "    </tr>\n",
       "  </thead>\n",
       "  <tbody>\n",
       "    <tr>\n",
       "      <th>0</th>\n",
       "      <td>NO2</td>\n",
       "    </tr>\n",
       "    <tr>\n",
       "      <th>1</th>\n",
       "      <td>PM</td>\n",
       "    </tr>\n",
       "    <tr>\n",
       "      <th>2</th>\n",
       "      <td>O3</td>\n",
       "    </tr>\n",
       "  </tbody>\n",
       "</table>\n",
       "</div>"
      ],
      "text/plain": [
       "  feature\n",
       "0     NO2\n",
       "1      PM\n",
       "2      O3"
      ]
     },
     "execution_count": 135,
     "metadata": {},
     "output_type": "execute_result"
    }
   ],
   "source": [
    "features = [\"NO2\", \"PM\", \"O3\"]\n",
    "featuresdf = pd.DataFrame(np.hstack((features)), columns = ['feature'])\n",
    "featuresdf"
   ]
  },
  {
   "cell_type": "code",
   "execution_count": 64,
   "id": "9954fe8c",
   "metadata": {},
   "outputs": [],
   "source": [
    "from sklearn.model_selection import train_test_split\n",
    "#Splitting data set - test = 10% of data set\n",
    "X_train, X_test, y_train, y_test = train_test_split(X, y, test_size=0.1)\n",
    "\n",
    "#splitting training data set further to get validation set (15% of whole data set) leaving training set 75% of whole data set\n",
    "X_train, X_val, y_train, y_val = train_test_split(X_train, y_train, test_size=0.17)"
   ]
  },
  {
   "cell_type": "code",
   "execution_count": 65,
   "id": "41e4b04f",
   "metadata": {},
   "outputs": [],
   "source": [
    "alphas = np.arange(0, 1.05, 0.05).tolist()"
   ]
  },
  {
   "cell_type": "code",
   "execution_count": 66,
   "id": "63eb5945",
   "metadata": {},
   "outputs": [
    {
     "name": "stdout",
     "output_type": "stream",
     "text": [
      "0.8688524590163934\n",
      "0.8688524590163934\n",
      "0.8360655737704918\n",
      "0.8360655737704918\n",
      "0.8524590163934426\n",
      "0.8524590163934426\n",
      "0.8524590163934426\n",
      "0.8524590163934426\n",
      "0.8524590163934426\n",
      "0.8524590163934426\n",
      "0.8524590163934426\n",
      "0.8524590163934426\n",
      "0.8524590163934426\n",
      "0.8524590163934426\n",
      "0.8524590163934426\n",
      "0.8524590163934426\n",
      "0.8524590163934426\n",
      "0.8524590163934426\n",
      "0.8524590163934426\n",
      "0.8524590163934426\n",
      "0.8524590163934426\n"
     ]
    }
   ],
   "source": [
    "for i in alphas:\n",
    "    seasonClassifier = RidgeClassifier(alpha=i)\n",
    "    seasonClassifier.fit(X_train, y_train)\n",
    "    print(seasonClassifier.score(X_test, y_test))"
   ]
  },
  {
   "cell_type": "code",
   "execution_count": 67,
   "id": "2aa8dd0b",
   "metadata": {},
   "outputs": [
    {
     "name": "stdout",
     "output_type": "stream",
     "text": [
      "0.8602150537634409\n",
      "0.8817204301075269\n",
      "0.8817204301075269\n",
      "0.8817204301075269\n",
      "0.8817204301075269\n",
      "0.8817204301075269\n",
      "0.8817204301075269\n",
      "0.8817204301075269\n",
      "0.8817204301075269\n",
      "0.8817204301075269\n",
      "0.8817204301075269\n",
      "0.8817204301075269\n",
      "0.8817204301075269\n",
      "0.8817204301075269\n",
      "0.8817204301075269\n",
      "0.8817204301075269\n",
      "0.8817204301075269\n",
      "0.8817204301075269\n",
      "0.8817204301075269\n",
      "0.8817204301075269\n",
      "0.8817204301075269\n"
     ]
    }
   ],
   "source": [
    "for i in alphas:\n",
    "    seasonClassifier = RidgeClassifier(alpha=i)\n",
    "    seasonClassifier.fit(X_val, y_val)\n",
    "    print(seasonClassifier.score(X_val, y_val))"
   ]
  },
  {
   "cell_type": "code",
   "execution_count": 68,
   "id": "6423aa61",
   "metadata": {},
   "outputs": [
    {
     "name": "stdout",
     "output_type": "stream",
     "text": [
      "0.8688524590163934\n"
     ]
    }
   ],
   "source": [
    "#5- Final Model, alpha of 0.05 determined as optimal above\n",
    "seasonClassifier = RidgeClassifier(alpha=0.05)\n",
    "sea = seasonClassifier.fit(X_train, y_train)\n",
    "print(seasonClassifier.score(X_test, y_test))"
   ]
  },
  {
   "cell_type": "code",
   "execution_count": 69,
   "id": "232bfdb8",
   "metadata": {},
   "outputs": [],
   "source": [
    "#Importing permutation importance\n",
    "from sklearn.inspection import permutation_importance"
   ]
  },
  {
   "cell_type": "code",
   "execution_count": 70,
   "id": "ada4edaf",
   "metadata": {},
   "outputs": [],
   "source": [
    "r = permutation_importance(sea, X_test, y_test, n_repeats=10, random_state=0)"
   ]
  },
  {
   "cell_type": "code",
   "execution_count": 71,
   "id": "7065b16e",
   "metadata": {},
   "outputs": [
    {
     "data": {
      "text/plain": [
       "{'importances_mean': array([0.19836066, 0.12622951, 0.00983607]),\n",
       " 'importances_std': array([0.04045562, 0.04018902, 0.01825497]),\n",
       " 'importances': array([[ 0.13114754,  0.14754098,  0.2295082 ,  0.18032787,  0.27868852,\n",
       "          0.19672131,  0.19672131,  0.21311475,  0.18032787,  0.2295082 ],\n",
       "        [ 0.16393443,  0.13114754,  0.13114754,  0.1147541 ,  0.14754098,\n",
       "          0.1147541 ,  0.1147541 ,  0.03278689,  0.19672131,  0.1147541 ],\n",
       "        [ 0.01639344,  0.03278689, -0.01639344, -0.01639344,  0.        ,\n",
       "          0.        ,  0.01639344,  0.03278689,  0.        ,  0.03278689]])}"
      ]
     },
     "execution_count": 71,
     "metadata": {},
     "output_type": "execute_result"
    }
   ],
   "source": [
    "r"
   ]
  },
  {
   "cell_type": "code",
   "execution_count": 72,
   "id": "8b6db681",
   "metadata": {},
   "outputs": [
    {
     "data": {
      "text/plain": [
       "array([0.19836066, 0.12622951, 0.00983607])"
      ]
     },
     "execution_count": 72,
     "metadata": {},
     "output_type": "execute_result"
    }
   ],
   "source": [
    "r.importances_mean"
   ]
  },
  {
   "cell_type": "code",
   "execution_count": 73,
   "id": "eddefbcf",
   "metadata": {},
   "outputs": [
    {
     "data": {
      "text/plain": [
       "array([0.04045562, 0.04018902, 0.01825497])"
      ]
     },
     "execution_count": 73,
     "metadata": {},
     "output_type": "execute_result"
    }
   ],
   "source": [
    "r.importances_std"
   ]
  },
  {
   "cell_type": "code",
   "execution_count": 94,
   "id": "d108be8f",
   "metadata": {},
   "outputs": [
    {
     "name": "stdout",
     "output_type": "stream",
     "text": [
      "NO2: 0.198 +/- 0.040\n",
      "PM: 0.126 +/- 0.040\n",
      "O3: 0.010 +/- 0.018\n"
     ]
    }
   ],
   "source": [
    "for i in range(len(r.importances_mean)):\n",
    "    print(f\"{features[i]}: {r.importances_mean[i]:.3f} +/- {r.importances_std[i]:.3f}\")"
   ]
  },
  {
   "cell_type": "code",
   "execution_count": 132,
   "id": "82d4f2da",
   "metadata": {},
   "outputs": [
    {
     "data": {
      "text/html": [
       "<div>\n",
       "<style scoped>\n",
       "    .dataframe tbody tr th:only-of-type {\n",
       "        vertical-align: middle;\n",
       "    }\n",
       "\n",
       "    .dataframe tbody tr th {\n",
       "        vertical-align: top;\n",
       "    }\n",
       "\n",
       "    .dataframe thead th {\n",
       "        text-align: right;\n",
       "    }\n",
       "</style>\n",
       "<table border=\"1\" class=\"dataframe\">\n",
       "  <thead>\n",
       "    <tr style=\"text-align: right;\">\n",
       "      <th></th>\n",
       "      <th>mean</th>\n",
       "    </tr>\n",
       "  </thead>\n",
       "  <tbody>\n",
       "    <tr>\n",
       "      <th>0</th>\n",
       "      <td>0.198361</td>\n",
       "    </tr>\n",
       "    <tr>\n",
       "      <th>1</th>\n",
       "      <td>0.126230</td>\n",
       "    </tr>\n",
       "    <tr>\n",
       "      <th>2</th>\n",
       "      <td>0.009836</td>\n",
       "    </tr>\n",
       "  </tbody>\n",
       "</table>\n",
       "</div>"
      ],
      "text/plain": [
       "       mean\n",
       "0  0.198361\n",
       "1  0.126230\n",
       "2  0.009836"
      ]
     },
     "execution_count": 132,
     "metadata": {},
     "output_type": "execute_result"
    }
   ],
   "source": [
    "imp_means = pd.DataFrame(np.hstack((r.importances_mean)), columns = ['mean'])\n",
    "imp_std = pd.DataFrame(np.hstack((r.importances_std)), columns = ['std'])"
   ]
  },
  {
   "cell_type": "code",
   "execution_count": 145,
   "id": "a9057e55",
   "metadata": {},
   "outputs": [
    {
     "data": {
      "text/html": [
       "<div>\n",
       "<style scoped>\n",
       "    .dataframe tbody tr th:only-of-type {\n",
       "        vertical-align: middle;\n",
       "    }\n",
       "\n",
       "    .dataframe tbody tr th {\n",
       "        vertical-align: top;\n",
       "    }\n",
       "\n",
       "    .dataframe thead th {\n",
       "        text-align: right;\n",
       "    }\n",
       "</style>\n",
       "<table border=\"1\" class=\"dataframe\">\n",
       "  <thead>\n",
       "    <tr style=\"text-align: right;\">\n",
       "      <th></th>\n",
       "      <th>feature</th>\n",
       "      <th>mean</th>\n",
       "      <th>std</th>\n",
       "    </tr>\n",
       "  </thead>\n",
       "  <tbody>\n",
       "    <tr>\n",
       "      <th>0</th>\n",
       "      <td>NO2</td>\n",
       "      <td>0.198361</td>\n",
       "      <td>0.040456</td>\n",
       "    </tr>\n",
       "    <tr>\n",
       "      <th>1</th>\n",
       "      <td>PM</td>\n",
       "      <td>0.126230</td>\n",
       "      <td>0.040189</td>\n",
       "    </tr>\n",
       "    <tr>\n",
       "      <th>2</th>\n",
       "      <td>O3</td>\n",
       "      <td>0.009836</td>\n",
       "      <td>0.018255</td>\n",
       "    </tr>\n",
       "  </tbody>\n",
       "</table>\n",
       "</div>"
      ],
      "text/plain": [
       "  feature      mean       std\n",
       "0     NO2  0.198361  0.040456\n",
       "1      PM  0.126230  0.040189\n",
       "2      O3  0.009836  0.018255"
      ]
     },
     "execution_count": 145,
     "metadata": {},
     "output_type": "execute_result"
    }
   ],
   "source": [
    "feature_imp = [featuresdf, imp_means, imp_std]\n",
    "imp_df = feature_imp[0].join(feature_imp[1:])\n",
    "imp_df"
   ]
  },
  {
   "cell_type": "code",
   "execution_count": 152,
   "id": "3b42b63b",
   "metadata": {},
   "outputs": [
    {
     "data": {
      "text/plain": [
       "[Text(0.5, 0, 'Feature'), Text(0, 0.5, 'Importance Mean')]"
      ]
     },
     "execution_count": 152,
     "metadata": {},
     "output_type": "execute_result"
    },
    {
     "data": {
      "image/png": "[encoded data removed]",
      "text/plain": [
       "<Figure size 640x480 with 1 Axes>"
      ]
     },
     "metadata": {},
     "output_type": "display_data"
    }
   ],
   "source": [
    "ax = imp_df.plot(kind='bar', x='feature', y='mean', yerr='std', rot=0)\n",
    "ax.set(xlabel='Feature', ylabel='Importance Mean')"
   ]
  },
  {
   "cell_type": "code",
   "execution_count": 161,
   "id": "2d43939f",
   "metadata": {},
   "outputs": [],
   "source": [
    "#Buoy Data\n",
    "buoy = pd.read_csv(\"/Users/matthewq/Geol_599/week9/Waves_2023.txt\", sep='\\s+') \n",
    "buoy_use = buoy[['WVHT', 'DPD', 'APD', 'MWD', 'WTMP']].copy()\n",
    "X = buoy_use[[\"DPD\", \"APD\", \"MWD\", 'WTMP']].to_numpy()\n",
    "y = buoy_use[['WVHT']]\n",
    "\n",
    "#Splitting data set - test = 10% of data set\n",
    "X_train, X_test, y_train, y_test = train_test_split(X, y, test_size=0.1)\n",
    "\n",
    "#splitting training data set further to get validation set (15% of whole data set) leaving training set 75% of whole data set\n",
    "X_train, X_val, y_train, y_val = train_test_split(X_train, y_train, test_size=0.17)"
   ]
  },
  {
   "cell_type": "code",
   "execution_count": 162,
   "id": "ba94d3ba",
   "metadata": {},
   "outputs": [
    {
     "data": {
      "text/html": [
       "<div>\n",
       "<style scoped>\n",
       "    .dataframe tbody tr th:only-of-type {\n",
       "        vertical-align: middle;\n",
       "    }\n",
       "\n",
       "    .dataframe tbody tr th {\n",
       "        vertical-align: top;\n",
       "    }\n",
       "\n",
       "    .dataframe thead th {\n",
       "        text-align: right;\n",
       "    }\n",
       "</style>\n",
       "<table border=\"1\" class=\"dataframe\">\n",
       "  <thead>\n",
       "    <tr style=\"text-align: right;\">\n",
       "      <th></th>\n",
       "      <th>feature</th>\n",
       "    </tr>\n",
       "  </thead>\n",
       "  <tbody>\n",
       "    <tr>\n",
       "      <th>0</th>\n",
       "      <td>DPD</td>\n",
       "    </tr>\n",
       "    <tr>\n",
       "      <th>1</th>\n",
       "      <td>APD</td>\n",
       "    </tr>\n",
       "    <tr>\n",
       "      <th>2</th>\n",
       "      <td>MWD</td>\n",
       "    </tr>\n",
       "    <tr>\n",
       "      <th>3</th>\n",
       "      <td>WTMP</td>\n",
       "    </tr>\n",
       "  </tbody>\n",
       "</table>\n",
       "</div>"
      ],
      "text/plain": [
       "  feature\n",
       "0     DPD\n",
       "1     APD\n",
       "2     MWD\n",
       "3    WTMP"
      ]
     },
     "execution_count": 162,
     "metadata": {},
     "output_type": "execute_result"
    }
   ],
   "source": [
    "wave_features = [\"DPD\", \"APD\", \"MWD\", 'WTMP'] #dominant wave period, average wave period, wave direction, water temperature\n",
    "wave_featuresdf = pd.DataFrame(np.hstack((wave_features)), columns = ['feature'])\n",
    "wave_featuresdf"
   ]
  },
  {
   "cell_type": "code",
   "execution_count": 163,
   "id": "6a63d0dd",
   "metadata": {},
   "outputs": [
    {
     "data": {
      "text/plain": [
       "{'importances_mean': array([1.89513958, 0.02494072, 0.02054188, 0.01855603]),\n",
       " 'importances_std': array([0.00605601, 0.00120765, 0.00108588, 0.00147004]),\n",
       " 'importances': array([[1.89411854, 1.89473346, 1.89408503, 1.90491799, 1.88269487,\n",
       "         1.89134358, 1.89522911, 1.89523423, 1.89398995, 1.90504902],\n",
       "        [0.02415566, 0.02704359, 0.02456835, 0.02412206, 0.0258142 ,\n",
       "         0.02471591, 0.02382305, 0.02530282, 0.02673949, 0.02312204],\n",
       "        [0.02035305, 0.0226077 , 0.01956667, 0.02116102, 0.02107276,\n",
       "         0.01947357, 0.01952616, 0.02068798, 0.01913009, 0.02183975],\n",
       "        [0.01703729, 0.01853295, 0.02135234, 0.0206991 , 0.01750913,\n",
       "         0.01826395, 0.01665148, 0.01803575, 0.01967309, 0.01780522]])}"
      ]
     },
     "execution_count": 163,
     "metadata": {},
     "output_type": "execute_result"
    }
   ],
   "source": [
    "#Boosted regression learning rate determined in HW9\n",
    "bst = XGBRegressor(n_estimators=25, learning_rate=0.4)\n",
    "bst = bst.fit(X_train, y_train)\n",
    "\n",
    "r_bst = permutation_importance(bst, X_test, y_test, n_repeats=10, random_state=0)\n",
    "r_bst"
   ]
  },
  {
   "cell_type": "code",
   "execution_count": 164,
   "id": "4ec1b1e8",
   "metadata": {},
   "outputs": [
    {
     "data": {
      "text/html": [
       "<div>\n",
       "<style scoped>\n",
       "    .dataframe tbody tr th:only-of-type {\n",
       "        vertical-align: middle;\n",
       "    }\n",
       "\n",
       "    .dataframe tbody tr th {\n",
       "        vertical-align: top;\n",
       "    }\n",
       "\n",
       "    .dataframe thead th {\n",
       "        text-align: right;\n",
       "    }\n",
       "</style>\n",
       "<table border=\"1\" class=\"dataframe\">\n",
       "  <thead>\n",
       "    <tr style=\"text-align: right;\">\n",
       "      <th></th>\n",
       "      <th>feature</th>\n",
       "      <th>mean</th>\n",
       "      <th>std</th>\n",
       "    </tr>\n",
       "  </thead>\n",
       "  <tbody>\n",
       "    <tr>\n",
       "      <th>0</th>\n",
       "      <td>DPD</td>\n",
       "      <td>1.895140</td>\n",
       "      <td>0.006056</td>\n",
       "    </tr>\n",
       "    <tr>\n",
       "      <th>1</th>\n",
       "      <td>APD</td>\n",
       "      <td>0.024941</td>\n",
       "      <td>0.001208</td>\n",
       "    </tr>\n",
       "    <tr>\n",
       "      <th>2</th>\n",
       "      <td>MWD</td>\n",
       "      <td>0.020542</td>\n",
       "      <td>0.001086</td>\n",
       "    </tr>\n",
       "    <tr>\n",
       "      <th>3</th>\n",
       "      <td>WTMP</td>\n",
       "      <td>0.018556</td>\n",
       "      <td>0.001470</td>\n",
       "    </tr>\n",
       "  </tbody>\n",
       "</table>\n",
       "</div>"
      ],
      "text/plain": [
       "  feature      mean       std\n",
       "0     DPD  1.895140  0.006056\n",
       "1     APD  0.024941  0.001208\n",
       "2     MWD  0.020542  0.001086\n",
       "3    WTMP  0.018556  0.001470"
      ]
     },
     "execution_count": 164,
     "metadata": {},
     "output_type": "execute_result"
    }
   ],
   "source": [
    "imp_means_bst = pd.DataFrame(np.hstack((r_bst.importances_mean)), columns = ['mean'])\n",
    "imp_std_bst = pd.DataFrame(np.hstack((r_bst.importances_std)), columns = ['std'])\n",
    "\n",
    "feature_imp_bst = [wave_featuresdf, imp_means_bst, imp_std_bst]\n",
    "bst_imp_df = feature_imp_bst[0].join(feature_imp_bst[1:])\n",
    "bst_imp_df"
   ]
  },
  {
   "cell_type": "code",
   "execution_count": 165,
   "id": "72b7acdb",
   "metadata": {},
   "outputs": [
    {
     "data": {
      "text/plain": [
       "[Text(0.5, 0, 'Feature'), Text(0, 0.5, 'Importance Mean')]"
      ]
     },
     "execution_count": 165,
     "metadata": {},
     "output_type": "execute_result"
    },
    {
     "data": {
      "image/png": "[encoded data removed]",
      "text/plain": [
       "<Figure size 640x480 with 1 Axes>"
      ]
     },
     "metadata": {},
     "output_type": "display_data"
    }
   ],
   "source": [
    "bst_ax = bst_imp_df.plot(kind='bar', x='feature', y='mean', yerr='std', rot=0)\n",
    "bst_ax.set(xlabel='Feature', ylabel='Importance Mean')"
   ]
  },
  {
   "cell_type": "code",
   "execution_count": 166,
   "id": "ea490562",
   "metadata": {},
   "outputs": [
    {
     "data": {
      "text/html": [
       "<div>\n",
       "<style scoped>\n",
       "    .dataframe tbody tr th:only-of-type {\n",
       "        vertical-align: middle;\n",
       "    }\n",
       "\n",
       "    .dataframe tbody tr th {\n",
       "        vertical-align: top;\n",
       "    }\n",
       "\n",
       "    .dataframe thead th {\n",
       "        text-align: right;\n",
       "    }\n",
       "</style>\n",
       "<table border=\"1\" class=\"dataframe\">\n",
       "  <thead>\n",
       "    <tr style=\"text-align: right;\">\n",
       "      <th></th>\n",
       "      <th>feature</th>\n",
       "      <th>mean</th>\n",
       "      <th>std</th>\n",
       "    </tr>\n",
       "  </thead>\n",
       "  <tbody>\n",
       "    <tr>\n",
       "      <th>0</th>\n",
       "      <td>DPD</td>\n",
       "      <td>0.026236</td>\n",
       "      <td>0.001404</td>\n",
       "    </tr>\n",
       "    <tr>\n",
       "      <th>1</th>\n",
       "      <td>APD</td>\n",
       "      <td>1.941568</td>\n",
       "      <td>0.008618</td>\n",
       "    </tr>\n",
       "    <tr>\n",
       "      <th>2</th>\n",
       "      <td>MWD</td>\n",
       "      <td>0.032458</td>\n",
       "      <td>0.002838</td>\n",
       "    </tr>\n",
       "    <tr>\n",
       "      <th>3</th>\n",
       "      <td>WTMP</td>\n",
       "      <td>0.023453</td>\n",
       "      <td>0.002595</td>\n",
       "    </tr>\n",
       "  </tbody>\n",
       "</table>\n",
       "</div>"
      ],
      "text/plain": [
       "  feature      mean       std\n",
       "0     DPD  0.026236  0.001404\n",
       "1     APD  1.941568  0.008618\n",
       "2     MWD  0.032458  0.002838\n",
       "3    WTMP  0.023453  0.002595"
      ]
     },
     "execution_count": 166,
     "metadata": {},
     "output_type": "execute_result"
    }
   ],
   "source": [
    "#Decision Tree\n",
    "DTrg = DecisionTreeRegressor()\n",
    "DTrg.fit(X_train, y_train)\n",
    "\n",
    "r_dt = permutation_importance(DTrg, X_test, y_test, n_repeats=10, random_state=0)\n",
    "\n",
    "imp_means_dt = pd.DataFrame(np.hstack((r_dt.importances_mean)), columns = ['mean'])\n",
    "imp_std_dt = pd.DataFrame(np.hstack((r_dt.importances_std)), columns = ['std'])\n",
    "\n",
    "feature_imp_dt = [wave_featuresdf, imp_means_dt, imp_std_dt]\n",
    "dt_imp_df = feature_imp_dt[0].join(feature_imp_dt[1:])\n",
    "dt_imp_df"
   ]
  },
  {
   "cell_type": "code",
   "execution_count": 167,
   "id": "b46f2ecf",
   "metadata": {},
   "outputs": [
    {
     "data": {
      "text/plain": [
       "[Text(0.5, 0, 'Feature'), Text(0, 0.5, 'Importance Mean')]"
      ]
     },
     "execution_count": 167,
     "metadata": {},
     "output_type": "execute_result"
    },
    {
     "data": {
      "image/png": "[encoded data removed]",
      "text/plain": [
       "<Figure size 640x480 with 1 Axes>"
      ]
     },
     "metadata": {},
     "output_type": "display_data"
    }
   ],
   "source": [
    "dt_ax = dt_imp_df.plot(kind='bar', x='feature', y='mean', yerr='std', rot=0)\n",
    "dt_ax.set(xlabel='Feature', ylabel='Importance Mean')"
   ]
  },
  {
   "cell_type": "code",
   "execution_count": 168,
   "id": "d345af50",
   "metadata": {},
   "outputs": [
    {
     "data": {
      "text/html": [
       "<div>\n",
       "<style scoped>\n",
       "    .dataframe tbody tr th:only-of-type {\n",
       "        vertical-align: middle;\n",
       "    }\n",
       "\n",
       "    .dataframe tbody tr th {\n",
       "        vertical-align: top;\n",
       "    }\n",
       "\n",
       "    .dataframe thead th {\n",
       "        text-align: right;\n",
       "    }\n",
       "</style>\n",
       "<table border=\"1\" class=\"dataframe\">\n",
       "  <thead>\n",
       "    <tr style=\"text-align: right;\">\n",
       "      <th></th>\n",
       "      <th>feature</th>\n",
       "      <th>mean</th>\n",
       "      <th>std</th>\n",
       "    </tr>\n",
       "  </thead>\n",
       "  <tbody>\n",
       "    <tr>\n",
       "      <th>0</th>\n",
       "      <td>DPD</td>\n",
       "      <td>0.018660</td>\n",
       "      <td>0.002807</td>\n",
       "    </tr>\n",
       "    <tr>\n",
       "      <th>1</th>\n",
       "      <td>APD</td>\n",
       "      <td>0.849940</td>\n",
       "      <td>0.017361</td>\n",
       "    </tr>\n",
       "    <tr>\n",
       "      <th>2</th>\n",
       "      <td>MWD</td>\n",
       "      <td>0.109442</td>\n",
       "      <td>0.006814</td>\n",
       "    </tr>\n",
       "    <tr>\n",
       "      <th>3</th>\n",
       "      <td>WTMP</td>\n",
       "      <td>0.010476</td>\n",
       "      <td>0.002071</td>\n",
       "    </tr>\n",
       "  </tbody>\n",
       "</table>\n",
       "</div>"
      ],
      "text/plain": [
       "  feature      mean       std\n",
       "0     DPD  0.018660  0.002807\n",
       "1     APD  0.849940  0.017361\n",
       "2     MWD  0.109442  0.006814\n",
       "3    WTMP  0.010476  0.002071"
      ]
     },
     "execution_count": 168,
     "metadata": {},
     "output_type": "execute_result"
    }
   ],
   "source": [
    "#Linear Regression\n",
    "reg = linear_model.LinearRegression()\n",
    "reg.fit(X_train, y_train)\n",
    "\n",
    "r_reg = permutation_importance(reg, X_test, y_test, n_repeats=10, random_state=0)\n",
    "\n",
    "imp_means_reg = pd.DataFrame(np.hstack((r_reg.importances_mean)), columns = ['mean'])\n",
    "imp_std_reg = pd.DataFrame(np.hstack((r_reg.importances_std)), columns = ['std'])\n",
    "\n",
    "feature_imp_reg = [wave_featuresdf, imp_means_reg, imp_std_reg]\n",
    "reg_imp_df = feature_imp_reg[0].join(feature_imp_reg[1:])\n",
    "reg_imp_df"
   ]
  },
  {
   "cell_type": "code",
   "execution_count": 169,
   "id": "15e8cbcf",
   "metadata": {},
   "outputs": [
    {
     "data": {
      "text/plain": [
       "[Text(0.5, 0, 'Feature'), Text(0, 0.5, 'Importance Mean')]"
      ]
     },
     "execution_count": 169,
     "metadata": {},
     "output_type": "execute_result"
    },
    {
     "data": {
      "image/png": "[encoded data removed]",
      "text/plain": [
       "<Figure size 640x480 with 1 Axes>"
      ]
     },
     "metadata": {},
     "output_type": "display_data"
    }
   ],
   "source": [
    "reg_ax = reg_imp_df.plot(kind='bar', x='feature', y='mean', yerr='std', rot=0)\n",
    "reg_ax.set(xlabel='Feature', ylabel='Importance Mean')"
   ]
  },
  {
   "cell_type": "markdown",
   "id": "f2cc522c",
   "metadata": {},
   "source": [
    "The most important variable does change depending on the model used to predict wave height. The most important for teh XGBoost model is the dominant wave period, where the most important value for the decision tree and linear regression models is the average wave period."
   ]
  },
  {
   "cell_type": "markdown",
   "id": "ebe7298a",
   "metadata": {},
   "source": [
    "Questions on Flora et al., 2024"
   ]
  },
  {
   "cell_type": "markdown",
   "id": "5bfbf42e",
   "metadata": {},
   "source": [
    "1. The permutation importance method is described in the paper as the most common way to measure model-specific feature importance. This method evaluates the change in a models performance after permuting a feature's values. This maintains the feature's marginal distribution, or the probability distribution of the features values, but breaks up the relationship with the target variable. Some drawbacks of this method is that it alters the conditional joint distribution among features and it is restricted to specific ML alkgorithms, like random forests, or they get computationally restrictive. "
   ]
  },
  {
   "cell_type": "markdown",
   "id": "787e6023",
   "metadata": {},
   "source": [
    "2. Another method described in the paper is the Local Interpretable Model-agnostic Explanations Method (LIME), which, as the name suggests, is model-agnostic. This method works by fitting a linear model on perturbations of the dataset and uses the model coefficients to generate the individual feature contributions. The 'width' of the local area where the perturbations are generated is dictated by a kernel function. There are some drawbacks to this approach, mainly that this method cannot guarantee local accuracy, can provide misleading explanations when dealing with correlated features and is subject to the accuracy of the local linear model."
   ]
  },
  {
   "cell_type": "markdown",
   "id": "88d48b88",
   "metadata": {},
   "source": [
    "3. Scikit functions: From Flora and Handler, 2022\n",
    "First need to import scikit-explain \n",
    "-import skexplain\n",
    "\n",
    "Permutation Importance:\n",
    "-perm_results = explainer.permutation_importance(n_vars=10, evaluation_fn='auc')\n",
    "-explainer.plot_importance(data=perm_results)\n",
    "\n",
    "PD and ALE: \n",
    "#Assumes the .permutation_importance has already been run.\n",
    "-important_vars = explainer.get_important_vars(results, multipass=True, nvars=7)\n",
    "\n",
    "-ale = explainer.ale(features=important_vars, n_bins=20)\n",
    "\n",
    "SHAP, LIME, and Tree Interpreter:\n",
    "-import shap\n",
    "    \n",
    "#For the LIME, we must provide the training dataset. We also denote any categorical features. \n",
    "-lime_kws = {'training_data' : X.values, 'categorical_names' : ['rural', 'urban']}\n",
    "    \n",
    "#The masker handles the missing features. In this case, we are using correlations \n",
    "in the dataset to determine the feature groupings. These groups of features are remove or added into \n",
    "sets together. \n",
    "-shap_kws={'masker' : shap.maskers.Partition(X, max_samples=100, clustering=\"correlation\"), 'algorithm' : 'permutation'}\n",
    "           \n",
    "#Method can be a single str or list of strs.\n",
    "-attr_results = explainer.local_attributions(method=['shap', 'lime', 'tree_interpreter'], shap_kws=shap_kws, lime_kws=lime_kws)\n",
    "\n",
    "-explainer = skexplain.ExplainToolkit(estimators=estimators[0],X=X, y=y)\n",
    "\n",
    "#average_attributions is used to average feature attributions and their feature values either using a simple mean or the mean based on model performance. \n",
    "-avg_attr_results = explainer.average_attributions(method='shap', shap_kwargs=shap_kwargs, performance_based=True,)\n",
    "-fig = myInterpreter.plot_contributions(avg_attr_results)\n",
    "    \n",
    "-attr_results = explainer.local_attributions(method='lime', lime_kws=lime_kws)\n",
    "-explainer.scatter_plot(plot_type = 'summary', dataset=attr_results) "
   ]
  }
 ],
 "metadata": {
  "kernelspec": {
   "display_name": "Python 3 (ipykernel)",
   "language": "python",
   "name": "python3"
  },
  "language_info": {
   "codemirror_mode": {
    "name": "ipython",
    "version": 3
   },
   "file_extension": ".py",
   "mimetype": "text/x-python",
   "name": "python",
   "nbconvert_exporter": "python",
   "pygments_lexer": "ipython3",
   "version": "3.11.5"
  }
 },
 "nbformat": 4,
 "nbformat_minor": 5
}
